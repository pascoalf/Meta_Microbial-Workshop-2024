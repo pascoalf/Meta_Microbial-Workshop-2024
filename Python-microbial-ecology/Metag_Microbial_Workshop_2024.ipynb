{
 "cells": [
  {
   "cell_type": "markdown",
   "id": "50af370b",
   "metadata": {
    "slideshow": {
     "slide_type": "slide"
    }
   },
   "source": [
    "# Basic Markdown in Jupyter "
   ]
  },
  {
   "cell_type": "markdown",
   "id": "d311e2a8",
   "metadata": {
    "slideshow": {
     "slide_type": "fragment"
    }
   },
   "source": [
    "# 1st Level header"
   ]
  },
  {
   "cell_type": "markdown",
   "id": "04be58cb",
   "metadata": {
    "slideshow": {
     "slide_type": "fragment"
    }
   },
   "source": [
    "## 2nd Level header"
   ]
  },
  {
   "cell_type": "markdown",
   "id": "67e3831e",
   "metadata": {
    "slideshow": {
     "slide_type": "fragment"
    }
   },
   "source": [
    "### 3rd Level header"
   ]
  },
  {
   "cell_type": "markdown",
   "id": "b17b9d3e",
   "metadata": {
    "slideshow": {
     "slide_type": "fragment"
    }
   },
   "source": [
    "### 4th Level header"
   ]
  },
  {
   "cell_type": "markdown",
   "id": "1f845777",
   "metadata": {
    "slideshow": {
     "slide_type": "fragment"
    }
   },
   "source": [
    "*italic text*"
   ]
  },
  {
   "cell_type": "markdown",
   "id": "053378e5",
   "metadata": {
    "slideshow": {
     "slide_type": "fragment"
    }
   },
   "source": [
    "**bold text**"
   ]
  },
  {
   "cell_type": "markdown",
   "id": "6a264e77",
   "metadata": {
    "slideshow": {
     "slide_type": "fragment"
    }
   },
   "source": [
    "> quote block"
   ]
  },
  {
   "cell_type": "markdown",
   "id": "d05d47bf",
   "metadata": {},
   "source": [
    "1. First item\n",
    "2. Second item\n",
    "3. Third item"
   ]
  },
  {
   "cell_type": "markdown",
   "id": "cef8514b",
   "metadata": {},
   "source": [
    "- First item\n",
    "- Second item\n",
    "- Third item"
   ]
  },
  {
   "cell_type": "markdown",
   "id": "d59dca59",
   "metadata": {},
   "source": [
    "`code`"
   ]
  },
  {
   "cell_type": "markdown",
   "id": "c47643e8",
   "metadata": {},
   "source": [
    "<span style=\"color:blue\"> blue color text</span>"
   ]
  },
  {
   "cell_type": "markdown",
   "id": "dd0b92bd",
   "metadata": {},
   "source": [
    "# Basic Python"
   ]
  },
  {
   "cell_type": "markdown",
   "id": "e9022b26",
   "metadata": {},
   "source": [
    "## Variable Declaration and Basic Operation"
   ]
  },
  {
   "cell_type": "markdown",
   "id": "37c8a750",
   "metadata": {},
   "source": [
    "There are *several* type of variables in <span style=\"color:green\">Python</span>, each with **their characteristic features**."
   ]
  },
  {
   "cell_type": "code",
   "execution_count": 1,
   "id": "6c5aa3bb",
   "metadata": {},
   "outputs": [],
   "source": [
    "a = 1 #integer any positive or negative number without decimal part\n",
    "b = 'a' #string any ASCII or UNICODE symbol\n",
    "c = 0.5 #float any positive or negative number with decimal part\n",
    "d = False #boolean composed by True or False\n",
    "e = None #None special type indicating the concept of nothingness e.g missing data\n",
    "f = (1,1) #tuple store multiple items in a single variable in a ordered and unchangeable way\n",
    "g = ['a',1] #list store multiple items in a single variable in a ordered and changeable way\n",
    "h = {'a',1} #set store multiple items in a single variable in a unordered and unchangeable way\n",
    "i = {'a':1} #dictionary store multiple items organized in keys pointing to values pairs \n",
    "#they are changeable and do not allow duplicates"
   ]
  },
  {
   "cell_type": "markdown",
   "id": "a0e88f3c",
   "metadata": {},
   "source": [
    "### Integer operations"
   ]
  },
  {
   "cell_type": "code",
   "execution_count": 2,
   "id": "4f86da1b",
   "metadata": {},
   "outputs": [],
   "source": [
    "#variable declaration\n",
    "a = 3\n",
    "b = 2"
   ]
  },
  {
   "cell_type": "code",
   "execution_count": 3,
   "id": "aa54147d",
   "metadata": {},
   "outputs": [
    {
     "data": {
      "text/plain": [
       "5"
      ]
     },
     "execution_count": 3,
     "metadata": {},
     "output_type": "execute_result"
    }
   ],
   "source": [
    "a + b #sum"
   ]
  },
  {
   "cell_type": "code",
   "execution_count": 4,
   "id": "f85c77db",
   "metadata": {},
   "outputs": [
    {
     "data": {
      "text/plain": [
       "6"
      ]
     },
     "execution_count": 4,
     "metadata": {},
     "output_type": "execute_result"
    }
   ],
   "source": [
    "a * b #multiplication"
   ]
  },
  {
   "cell_type": "code",
   "execution_count": 5,
   "id": "a181706e",
   "metadata": {},
   "outputs": [
    {
     "data": {
      "text/plain": [
       "1"
      ]
     },
     "execution_count": 5,
     "metadata": {},
     "output_type": "execute_result"
    }
   ],
   "source": [
    "a - b #substraction"
   ]
  },
  {
   "cell_type": "code",
   "execution_count": 6,
   "id": "c0736e9b",
   "metadata": {},
   "outputs": [
    {
     "data": {
      "text/plain": [
       "1.5"
      ]
     },
     "execution_count": 6,
     "metadata": {},
     "output_type": "execute_result"
    }
   ],
   "source": [
    "a / b #division"
   ]
  },
  {
   "cell_type": "code",
   "execution_count": 7,
   "id": "81333160",
   "metadata": {},
   "outputs": [
    {
     "data": {
      "text/plain": [
       "1"
      ]
     },
     "execution_count": 7,
     "metadata": {},
     "output_type": "execute_result"
    }
   ],
   "source": [
    "a % b #modulus"
   ]
  },
  {
   "cell_type": "code",
   "execution_count": 8,
   "id": "fe7aeb52",
   "metadata": {},
   "outputs": [
    {
     "data": {
      "text/plain": [
       "9"
      ]
     },
     "execution_count": 8,
     "metadata": {},
     "output_type": "execute_result"
    }
   ],
   "source": [
    "a ** b #exponentiation"
   ]
  },
  {
   "cell_type": "code",
   "execution_count": 9,
   "id": "c7cae6b4",
   "metadata": {},
   "outputs": [
    {
     "data": {
      "text/plain": [
       "1"
      ]
     },
     "execution_count": 9,
     "metadata": {},
     "output_type": "execute_result"
    }
   ],
   "source": [
    "a // b #floor division"
   ]
  },
  {
   "cell_type": "markdown",
   "id": "db97b3a2",
   "metadata": {},
   "source": [
    "### String operations"
   ]
  },
  {
   "cell_type": "code",
   "execution_count": 10,
   "id": "a8fa10d8",
   "metadata": {},
   "outputs": [],
   "source": [
    "#variable declaration\n",
    "a = 'a'\n",
    "b = 'b'"
   ]
  },
  {
   "cell_type": "code",
   "execution_count": 11,
   "id": "7e1c7cef",
   "metadata": {},
   "outputs": [
    {
     "data": {
      "text/plain": [
       "'ab'"
      ]
     },
     "execution_count": 11,
     "metadata": {},
     "output_type": "execute_result"
    }
   ],
   "source": [
    "a + b #concatenation"
   ]
  },
  {
   "cell_type": "code",
   "execution_count": 12,
   "id": "09803c4b",
   "metadata": {},
   "outputs": [],
   "source": [
    "a = 'a'"
   ]
  },
  {
   "cell_type": "code",
   "execution_count": 13,
   "id": "def956aa",
   "metadata": {},
   "outputs": [],
   "source": [
    "b = 2"
   ]
  },
  {
   "cell_type": "markdown",
   "id": "db472fd4",
   "metadata": {},
   "source": [
    "it is **not** possible to concatenate string with other type of variables"
   ]
  },
  {
   "cell_type": "code",
   "execution_count": 14,
   "id": "5a244de5",
   "metadata": {},
   "outputs": [
    {
     "ename": "TypeError",
     "evalue": "can only concatenate str (not \"int\") to str",
     "output_type": "error",
     "traceback": [
      "\u001b[0;31m---------------------------------------------------------------------------\u001b[0m",
      "\u001b[0;31mTypeError\u001b[0m                                 Traceback (most recent call last)",
      "\u001b[0;32m/tmp/ipykernel_45815/1216668022.py\u001b[0m in \u001b[0;36m<module>\u001b[0;34m\u001b[0m\n\u001b[0;32m----> 1\u001b[0;31m \u001b[0ma\u001b[0m \u001b[0;34m+\u001b[0m \u001b[0mb\u001b[0m\u001b[0;34m\u001b[0m\u001b[0;34m\u001b[0m\u001b[0m\n\u001b[0m",
      "\u001b[0;31mTypeError\u001b[0m: can only concatenate str (not \"int\") to str"
     ]
    }
   ],
   "source": [
    "a + b"
   ]
  },
  {
   "cell_type": "markdown",
   "id": "7761c6d1",
   "metadata": {},
   "source": [
    "it **is** possible to *convert* some type of variables in other types of variables"
   ]
  },
  {
   "cell_type": "code",
   "execution_count": 15,
   "id": "aedd64f5",
   "metadata": {},
   "outputs": [
    {
     "data": {
      "text/plain": [
       "'a2'"
      ]
     },
     "execution_count": 15,
     "metadata": {},
     "output_type": "execute_result"
    }
   ],
   "source": [
    "a + str(b)"
   ]
  },
  {
   "cell_type": "code",
   "execution_count": 16,
   "id": "a558471c",
   "metadata": {},
   "outputs": [
    {
     "ename": "ValueError",
     "evalue": "invalid literal for int() with base 10: 'a'",
     "output_type": "error",
     "traceback": [
      "\u001b[0;31m---------------------------------------------------------------------------\u001b[0m",
      "\u001b[0;31mValueError\u001b[0m                                Traceback (most recent call last)",
      "\u001b[0;32m/tmp/ipykernel_45815/3198875159.py\u001b[0m in \u001b[0;36m<module>\u001b[0;34m\u001b[0m\n\u001b[0;32m----> 1\u001b[0;31m \u001b[0mint\u001b[0m\u001b[0;34m(\u001b[0m\u001b[0ma\u001b[0m\u001b[0;34m)\u001b[0m \u001b[0;34m+\u001b[0m \u001b[0mb\u001b[0m\u001b[0;34m\u001b[0m\u001b[0;34m\u001b[0m\u001b[0m\n\u001b[0m",
      "\u001b[0;31mValueError\u001b[0m: invalid literal for int() with base 10: 'a'"
     ]
    }
   ],
   "source": [
    "int(a) + b"
   ]
  },
  {
   "cell_type": "markdown",
   "id": "35eacd4c",
   "metadata": {},
   "source": [
    "## String"
   ]
  },
  {
   "cell_type": "code",
   "execution_count": 17,
   "id": "0a4042fb",
   "metadata": {},
   "outputs": [],
   "source": [
    "my_string = 'hello world'"
   ]
  },
  {
   "cell_type": "markdown",
   "id": "7da0411a",
   "metadata": {},
   "source": [
    "### String methods"
   ]
  },
  {
   "cell_type": "code",
   "execution_count": 18,
   "id": "2867a736",
   "metadata": {},
   "outputs": [
    {
     "data": {
      "text/plain": [
       "'Hello world'"
      ]
     },
     "execution_count": 18,
     "metadata": {},
     "output_type": "execute_result"
    }
   ],
   "source": [
    "my_string.capitalize() #capitalization"
   ]
  },
  {
   "cell_type": "code",
   "execution_count": 19,
   "id": "89dadb62",
   "metadata": {},
   "outputs": [
    {
     "data": {
      "text/plain": [
       "'hello!'"
      ]
     },
     "execution_count": 19,
     "metadata": {},
     "output_type": "execute_result"
    }
   ],
   "source": [
    "my_string.replace(' world','!') #replacement"
   ]
  },
  {
   "cell_type": "code",
   "execution_count": 20,
   "id": "6654f33f",
   "metadata": {},
   "outputs": [
    {
     "data": {
      "text/plain": [
       "'Hello World'"
      ]
     },
     "execution_count": 20,
     "metadata": {},
     "output_type": "execute_result"
    }
   ],
   "source": [
    "my_string.title() #first letter of every word capitalized"
   ]
  },
  {
   "cell_type": "code",
   "execution_count": 21,
   "id": "9ccef0c3",
   "metadata": {},
   "outputs": [
    {
     "data": {
      "text/plain": [
       "'HELLO WORLD'"
      ]
     },
     "execution_count": 21,
     "metadata": {},
     "output_type": "execute_result"
    }
   ],
   "source": [
    "my_string.upper() #all letter capitalized"
   ]
  },
  {
   "cell_type": "code",
   "execution_count": 22,
   "id": "ebd38329",
   "metadata": {},
   "outputs": [
    {
     "data": {
      "text/plain": [
       "'hello'"
      ]
     },
     "execution_count": 22,
     "metadata": {},
     "output_type": "execute_result"
    }
   ],
   "source": [
    "my_string[0:5] #slicing"
   ]
  },
  {
   "cell_type": "code",
   "execution_count": 23,
   "id": "28c4b40f",
   "metadata": {},
   "outputs": [
    {
     "data": {
      "text/plain": [
       "'dlrow olleh'"
      ]
     },
     "execution_count": 23,
     "metadata": {},
     "output_type": "execute_result"
    }
   ],
   "source": [
    "my_string[::-1] #reversing the string"
   ]
  },
  {
   "cell_type": "code",
   "execution_count": 24,
   "id": "ed00898d",
   "metadata": {},
   "outputs": [
    {
     "data": {
      "text/plain": [
       "0"
      ]
     },
     "execution_count": 24,
     "metadata": {},
     "output_type": "execute_result"
    }
   ],
   "source": [
    "my_string.find('h') #finding index (position) of a letter in a string"
   ]
  },
  {
   "cell_type": "markdown",
   "id": "ba0bedb0",
   "metadata": {},
   "source": [
    "**.find** works only with the first occurence of that symbol in the string"
   ]
  },
  {
   "cell_type": "code",
   "execution_count": 25,
   "id": "2e0225a5",
   "metadata": {},
   "outputs": [
    {
     "data": {
      "text/plain": [
       "4"
      ]
     },
     "execution_count": 25,
     "metadata": {},
     "output_type": "execute_result"
    }
   ],
   "source": [
    "my_string.find('o')"
   ]
  },
  {
   "cell_type": "markdown",
   "id": "c448aef3",
   "metadata": {},
   "source": [
    "## List"
   ]
  },
  {
   "cell_type": "code",
   "execution_count": 26,
   "id": "890f03ef",
   "metadata": {},
   "outputs": [],
   "source": [
    "#variable declaration\n",
    "a_list = ['a','b','c'] \n",
    "b_list = ['d']"
   ]
  },
  {
   "cell_type": "code",
   "execution_count": 27,
   "id": "8e437b09",
   "metadata": {},
   "outputs": [
    {
     "data": {
      "text/plain": [
       "['a', 'b', 'c', 'd']"
      ]
     },
     "execution_count": 27,
     "metadata": {},
     "output_type": "execute_result"
    }
   ],
   "source": [
    "a_list + b_list #concatenation"
   ]
  },
  {
   "cell_type": "code",
   "execution_count": 28,
   "id": "c4caaed2",
   "metadata": {},
   "outputs": [
    {
     "data": {
      "text/plain": [
       "'a'"
      ]
     },
     "execution_count": 28,
     "metadata": {},
     "output_type": "execute_result"
    }
   ],
   "source": [
    "a_list[0] #getting an element of a list based on its index"
   ]
  },
  {
   "cell_type": "code",
   "execution_count": 29,
   "id": "3c97a45e",
   "metadata": {},
   "outputs": [
    {
     "data": {
      "text/plain": [
       "'c'"
      ]
     },
     "execution_count": 29,
     "metadata": {},
     "output_type": "execute_result"
    }
   ],
   "source": [
    "a_list[-1] #last element of a list"
   ]
  },
  {
   "cell_type": "code",
   "execution_count": 30,
   "id": "841da860",
   "metadata": {},
   "outputs": [
    {
     "data": {
      "text/plain": [
       "['b', 'c']"
      ]
     },
     "execution_count": 30,
     "metadata": {},
     "output_type": "execute_result"
    }
   ],
   "source": [
    "a_list[1:3] #slicing"
   ]
  },
  {
   "cell_type": "code",
   "execution_count": 31,
   "id": "cc931a50",
   "metadata": {},
   "outputs": [
    {
     "data": {
      "text/plain": [
       "['c', 'b', 'a']"
      ]
     },
     "execution_count": 31,
     "metadata": {},
     "output_type": "execute_result"
    }
   ],
   "source": [
    "a_list[::-1] #inverting a list"
   ]
  },
  {
   "cell_type": "markdown",
   "id": "c6b59a30",
   "metadata": {},
   "source": [
    "## Set"
   ]
  },
  {
   "cell_type": "code",
   "execution_count": 32,
   "id": "687c4319",
   "metadata": {},
   "outputs": [],
   "source": [
    "#variable declaration\n",
    "a_set = {'a','b','c'}\n",
    "b_set = {'b','d'}"
   ]
  },
  {
   "cell_type": "markdown",
   "id": "2d5b536c",
   "metadata": {},
   "source": [
    "You **cannot** access items in a set by referring to an index, since sets are *unordered* the items has no index."
   ]
  },
  {
   "cell_type": "code",
   "execution_count": 33,
   "id": "562d44d4",
   "metadata": {},
   "outputs": [
    {
     "ename": "TypeError",
     "evalue": "'set' object is not subscriptable",
     "output_type": "error",
     "traceback": [
      "\u001b[0;31m---------------------------------------------------------------------------\u001b[0m",
      "\u001b[0;31mTypeError\u001b[0m                                 Traceback (most recent call last)",
      "\u001b[0;32m/tmp/ipykernel_45815/3483571857.py\u001b[0m in \u001b[0;36m<module>\u001b[0;34m\u001b[0m\n\u001b[0;32m----> 1\u001b[0;31m \u001b[0ma_set\u001b[0m\u001b[0;34m[\u001b[0m\u001b[0;36m0\u001b[0m\u001b[0;34m]\u001b[0m\u001b[0;34m\u001b[0m\u001b[0;34m\u001b[0m\u001b[0m\n\u001b[0m",
      "\u001b[0;31mTypeError\u001b[0m: 'set' object is not subscriptable"
     ]
    }
   ],
   "source": [
    "a_set[0]"
   ]
  },
  {
   "cell_type": "markdown",
   "id": "8c14c7a5",
   "metadata": {},
   "source": [
    "Different kind of set operations are available\n",
    "![venn-diagram](venn-diagrams.png)"
   ]
  },
  {
   "cell_type": "code",
   "execution_count": 34,
   "id": "21d24dbd",
   "metadata": {},
   "outputs": [
    {
     "data": {
      "text/plain": [
       "{'b'}"
      ]
     },
     "execution_count": 34,
     "metadata": {},
     "output_type": "execute_result"
    }
   ],
   "source": [
    "a_set.intersection(b_set) #intersection A∩B"
   ]
  },
  {
   "cell_type": "code",
   "execution_count": 35,
   "id": "a3922cad",
   "metadata": {},
   "outputs": [
    {
     "data": {
      "text/plain": [
       "{'a', 'b', 'c', 'd'}"
      ]
     },
     "execution_count": 35,
     "metadata": {},
     "output_type": "execute_result"
    }
   ],
   "source": [
    "a_set.union(b_set) #union A∪B"
   ]
  },
  {
   "cell_type": "code",
   "execution_count": 36,
   "id": "62be92af",
   "metadata": {},
   "outputs": [
    {
     "data": {
      "text/plain": [
       "{'a', 'c'}"
      ]
     },
     "execution_count": 36,
     "metadata": {},
     "output_type": "execute_result"
    }
   ],
   "source": [
    "a_set-b_set #set difference A-B"
   ]
  },
  {
   "cell_type": "code",
   "execution_count": 37,
   "id": "cc8bd7c3",
   "metadata": {},
   "outputs": [
    {
     "data": {
      "text/plain": [
       "{'a', 'c', 'd'}"
      ]
     },
     "execution_count": 37,
     "metadata": {},
     "output_type": "execute_result"
    }
   ],
   "source": [
    "a_set.symmetric_difference(b_set) #symmetric difference "
   ]
  },
  {
   "cell_type": "code",
   "execution_count": 38,
   "id": "bca8b488",
   "metadata": {},
   "outputs": [],
   "source": [
    "c_set = {'b','c'}"
   ]
  },
  {
   "cell_type": "code",
   "execution_count": 39,
   "id": "9752a07a",
   "metadata": {},
   "outputs": [
    {
     "data": {
      "text/plain": [
       "True"
      ]
     },
     "execution_count": 39,
     "metadata": {},
     "output_type": "execute_result"
    }
   ],
   "source": [
    "c_set.issubset(a_set) #subset"
   ]
  },
  {
   "cell_type": "code",
   "execution_count": 40,
   "id": "44d03a44",
   "metadata": {
    "scrolled": true
   },
   "outputs": [
    {
     "data": {
      "text/plain": [
       "'b'"
      ]
     },
     "execution_count": 40,
     "metadata": {},
     "output_type": "execute_result"
    }
   ],
   "source": [
    "list(a_set)[0] #converting to a list to access element"
   ]
  },
  {
   "cell_type": "markdown",
   "id": "546de04b",
   "metadata": {},
   "source": [
    "## Dictionary"
   ]
  },
  {
   "cell_type": "code",
   "execution_count": 41,
   "id": "60a69b44",
   "metadata": {},
   "outputs": [],
   "source": [
    "#variable declaration\n",
    "my_dict = {'cat':15, 'dog':10, 'turtle':100}"
   ]
  },
  {
   "cell_type": "code",
   "execution_count": 42,
   "id": "90dfa7b8",
   "metadata": {},
   "outputs": [
    {
     "data": {
      "text/plain": [
       "15"
      ]
     },
     "execution_count": 42,
     "metadata": {},
     "output_type": "execute_result"
    }
   ],
   "source": [
    "my_dict['cat']"
   ]
  },
  {
   "cell_type": "code",
   "execution_count": 43,
   "id": "41dce44a",
   "metadata": {},
   "outputs": [
    {
     "data": {
      "text/plain": [
       "dict_keys(['cat', 'dog', 'turtle'])"
      ]
     },
     "execution_count": 43,
     "metadata": {},
     "output_type": "execute_result"
    }
   ],
   "source": [
    "my_dict.keys()"
   ]
  },
  {
   "cell_type": "code",
   "execution_count": 44,
   "id": "acc7aa9e",
   "metadata": {},
   "outputs": [
    {
     "data": {
      "text/plain": [
       "dict_values([15, 10, 100])"
      ]
     },
     "execution_count": 44,
     "metadata": {},
     "output_type": "execute_result"
    }
   ],
   "source": [
    "my_dict.values()"
   ]
  },
  {
   "cell_type": "code",
   "execution_count": 45,
   "id": "badd93a5",
   "metadata": {},
   "outputs": [],
   "source": [
    "my_dict['fish'] = 1"
   ]
  },
  {
   "cell_type": "code",
   "execution_count": 46,
   "id": "cb4fb278",
   "metadata": {},
   "outputs": [
    {
     "data": {
      "text/plain": [
       "{'cat': 15, 'dog': 10, 'turtle': 100, 'fish': 1}"
      ]
     },
     "execution_count": 46,
     "metadata": {},
     "output_type": "execute_result"
    }
   ],
   "source": [
    "my_dict"
   ]
  },
  {
   "cell_type": "markdown",
   "id": "0b5fc7c6",
   "metadata": {},
   "source": [
    "dictionary can be used to **efficiently** perform conversions"
   ]
  },
  {
   "cell_type": "markdown",
   "id": "6722eba7",
   "metadata": {},
   "source": [
    "## Boolean Algebra"
   ]
  },
  {
   "cell_type": "markdown",
   "id": "50922f32",
   "metadata": {},
   "source": [
    "Different kind of logical operations are available\n",
    "![logical-gate](logical_gate.jpg)"
   ]
  },
  {
   "cell_type": "code",
   "execution_count": 47,
   "id": "4712dbe9",
   "metadata": {},
   "outputs": [
    {
     "data": {
      "text/plain": [
       "False"
      ]
     },
     "execution_count": 47,
     "metadata": {},
     "output_type": "execute_result"
    }
   ],
   "source": [
    "True and False"
   ]
  },
  {
   "cell_type": "code",
   "execution_count": 48,
   "id": "8e3d9e4d",
   "metadata": {
    "scrolled": true
   },
   "outputs": [
    {
     "data": {
      "text/plain": [
       "True"
      ]
     },
     "execution_count": 48,
     "metadata": {},
     "output_type": "execute_result"
    }
   ],
   "source": [
    "True or False"
   ]
  },
  {
   "cell_type": "code",
   "execution_count": 49,
   "id": "06548340",
   "metadata": {},
   "outputs": [
    {
     "data": {
      "text/plain": [
       "False"
      ]
     },
     "execution_count": 49,
     "metadata": {},
     "output_type": "execute_result"
    }
   ],
   "source": [
    "not True"
   ]
  },
  {
   "cell_type": "code",
   "execution_count": 50,
   "id": "b9da55a0",
   "metadata": {},
   "outputs": [
    {
     "data": {
      "text/plain": [
       "False"
      ]
     },
     "execution_count": 50,
     "metadata": {},
     "output_type": "execute_result"
    }
   ],
   "source": [
    "0 == 1"
   ]
  },
  {
   "cell_type": "code",
   "execution_count": 51,
   "id": "8215f07f",
   "metadata": {},
   "outputs": [
    {
     "data": {
      "text/plain": [
       "True"
      ]
     },
     "execution_count": 51,
     "metadata": {},
     "output_type": "execute_result"
    }
   ],
   "source": [
    "0 != 1"
   ]
  },
  {
   "cell_type": "code",
   "execution_count": 52,
   "id": "0880ceae",
   "metadata": {},
   "outputs": [
    {
     "data": {
      "text/plain": [
       "False"
      ]
     },
     "execution_count": 52,
     "metadata": {},
     "output_type": "execute_result"
    }
   ],
   "source": [
    "0 > 1"
   ]
  },
  {
   "cell_type": "code",
   "execution_count": 53,
   "id": "efffb061",
   "metadata": {},
   "outputs": [
    {
     "data": {
      "text/plain": [
       "True"
      ]
     },
     "execution_count": 53,
     "metadata": {},
     "output_type": "execute_result"
    }
   ],
   "source": [
    "0 < 1"
   ]
  },
  {
   "cell_type": "code",
   "execution_count": 54,
   "id": "1c7e2492",
   "metadata": {},
   "outputs": [
    {
     "data": {
      "text/plain": [
       "True"
      ]
     },
     "execution_count": 54,
     "metadata": {},
     "output_type": "execute_result"
    }
   ],
   "source": [
    "0 <= 1"
   ]
  },
  {
   "cell_type": "code",
   "execution_count": 55,
   "id": "40ebc28f",
   "metadata": {},
   "outputs": [
    {
     "data": {
      "text/plain": [
       "False"
      ]
     },
     "execution_count": 55,
     "metadata": {},
     "output_type": "execute_result"
    }
   ],
   "source": [
    "0 >= 1"
   ]
  },
  {
   "cell_type": "markdown",
   "id": "1cda8c35",
   "metadata": {},
   "source": [
    "## If Statement"
   ]
  },
  {
   "cell_type": "markdown",
   "id": "08cfec63",
   "metadata": {},
   "source": [
    "`if` is a conditional statement that helps to automatically execute different code based on a particular condition.\n",
    "\n",
    "**<span style=\"color:green\">if</span>** the condition is **<span style=\"color:green\">True</span>** the indented code is executed, otherwise is **skipped** "
   ]
  },
  {
   "cell_type": "markdown",
   "id": "8bd2a506",
   "metadata": {},
   "source": [
    "**<span style=\"color:green\">True</span>** and **<span style=\"color:green\">False</span>** can be represented as **1** and **0**, respectively"
   ]
  },
  {
   "cell_type": "code",
   "execution_count": 56,
   "id": "2e394789",
   "metadata": {},
   "outputs": [
    {
     "name": "stdout",
     "output_type": "stream",
     "text": [
      "True\n"
     ]
    }
   ],
   "source": [
    "if 1:\n",
    "    print(True)\n",
    "else:\n",
    "    print(False)"
   ]
  },
  {
   "cell_type": "code",
   "execution_count": 57,
   "id": "e6be4f92",
   "metadata": {},
   "outputs": [
    {
     "name": "stdout",
     "output_type": "stream",
     "text": [
      "False\n"
     ]
    }
   ],
   "source": [
    "if 0:\n",
    "    print(True)\n",
    "else:\n",
    "    print(False)"
   ]
  },
  {
   "cell_type": "markdown",
   "id": "befba498",
   "metadata": {},
   "source": [
    "## For Loop"
   ]
  },
  {
   "cell_type": "markdown",
   "id": "d4570349",
   "metadata": {},
   "source": [
    "`for` loop is used for iterating over a sequence of elements."
   ]
  },
  {
   "cell_type": "code",
   "execution_count": 58,
   "id": "681f03b4",
   "metadata": {},
   "outputs": [
    {
     "name": "stdout",
     "output_type": "stream",
     "text": [
      "the value of cat is 15\n",
      "the value of dog is 10\n",
      "the value of turtle is 100\n",
      "the value of fish is 1\n"
     ]
    }
   ],
   "source": [
    "for key, values in my_dict.items():\n",
    "    print(f'the value of {key} is {values}')"
   ]
  },
  {
   "cell_type": "markdown",
   "id": "0513c1a7",
   "metadata": {},
   "source": [
    "`for` can be used in combination with `if` and other statement and loop operators."
   ]
  },
  {
   "cell_type": "code",
   "execution_count": 59,
   "id": "7d403a8b",
   "metadata": {},
   "outputs": [
    {
     "name": "stdout",
     "output_type": "stream",
     "text": [
      "cat 15\n",
      "dog 10\n",
      "turtle 100\n"
     ]
    }
   ],
   "source": [
    "for key in my_dict.keys():\n",
    "    if my_dict[key] >= 5:\n",
    "        print(key,my_dict[key])"
   ]
  },
  {
   "cell_type": "markdown",
   "id": "d45f1ddc",
   "metadata": {},
   "source": [
    "## Function Declaration and Function Calling"
   ]
  },
  {
   "cell_type": "code",
   "execution_count": 60,
   "id": "938118f6",
   "metadata": {},
   "outputs": [],
   "source": [
    "def compare(first, second):\n",
    "    '''compare a first integer number to a second integer number to see if they are equal'''\n",
    "    if type(first) != int or type(second) != int:\n",
    "        raise TypeError('only integers accepted')\n",
    "    \n",
    "    if first == second:\n",
    "        return True\n",
    "    else:\n",
    "        return False\n",
    "    "
   ]
  },
  {
   "cell_type": "code",
   "execution_count": 61,
   "id": "3d50edfd",
   "metadata": {},
   "outputs": [
    {
     "data": {
      "text/plain": [
       "False"
      ]
     },
     "execution_count": 61,
     "metadata": {},
     "output_type": "execute_result"
    }
   ],
   "source": [
    "compare(first=1,second=2)"
   ]
  },
  {
   "cell_type": "code",
   "execution_count": 62,
   "id": "ada41240",
   "metadata": {},
   "outputs": [
    {
     "data": {
      "text/plain": [
       "True"
      ]
     },
     "execution_count": 62,
     "metadata": {},
     "output_type": "execute_result"
    }
   ],
   "source": [
    "compare(1,1)"
   ]
  },
  {
   "cell_type": "code",
   "execution_count": 63,
   "id": "b8da94e2",
   "metadata": {},
   "outputs": [
    {
     "ename": "TypeError",
     "evalue": "compare() missing 1 required positional argument: 'second'",
     "output_type": "error",
     "traceback": [
      "\u001b[0;31m---------------------------------------------------------------------------\u001b[0m",
      "\u001b[0;31mTypeError\u001b[0m                                 Traceback (most recent call last)",
      "\u001b[0;32m/tmp/ipykernel_45815/3033215653.py\u001b[0m in \u001b[0;36m<module>\u001b[0;34m\u001b[0m\n\u001b[0;32m----> 1\u001b[0;31m \u001b[0mcompare\u001b[0m\u001b[0;34m(\u001b[0m\u001b[0;36m1\u001b[0m\u001b[0;34m)\u001b[0m\u001b[0;34m\u001b[0m\u001b[0;34m\u001b[0m\u001b[0m\n\u001b[0m",
      "\u001b[0;31mTypeError\u001b[0m: compare() missing 1 required positional argument: 'second'"
     ]
    }
   ],
   "source": [
    "compare(1)"
   ]
  },
  {
   "cell_type": "code",
   "execution_count": 64,
   "id": "510b3863",
   "metadata": {
    "scrolled": false
   },
   "outputs": [
    {
     "ename": "TypeError",
     "evalue": "only integers accepted",
     "output_type": "error",
     "traceback": [
      "\u001b[0;31m---------------------------------------------------------------------------\u001b[0m",
      "\u001b[0;31mTypeError\u001b[0m                                 Traceback (most recent call last)",
      "\u001b[0;32m/tmp/ipykernel_45815/3658942252.py\u001b[0m in \u001b[0;36m<module>\u001b[0;34m\u001b[0m\n\u001b[0;32m----> 1\u001b[0;31m \u001b[0mcompare\u001b[0m\u001b[0;34m(\u001b[0m\u001b[0;34m'a'\u001b[0m\u001b[0;34m,\u001b[0m\u001b[0;36m1\u001b[0m\u001b[0;34m)\u001b[0m\u001b[0;34m\u001b[0m\u001b[0;34m\u001b[0m\u001b[0m\n\u001b[0m",
      "\u001b[0;32m/tmp/ipykernel_45815/107364439.py\u001b[0m in \u001b[0;36mcompare\u001b[0;34m(first, second)\u001b[0m\n\u001b[1;32m      2\u001b[0m     \u001b[0;34m'''compare a first integer number to a second integer number to see if they are equal'''\u001b[0m\u001b[0;34m\u001b[0m\u001b[0;34m\u001b[0m\u001b[0m\n\u001b[1;32m      3\u001b[0m     \u001b[0;32mif\u001b[0m \u001b[0mtype\u001b[0m\u001b[0;34m(\u001b[0m\u001b[0mfirst\u001b[0m\u001b[0;34m)\u001b[0m \u001b[0;34m!=\u001b[0m \u001b[0mint\u001b[0m \u001b[0;32mor\u001b[0m \u001b[0mtype\u001b[0m\u001b[0;34m(\u001b[0m\u001b[0msecond\u001b[0m\u001b[0;34m)\u001b[0m \u001b[0;34m!=\u001b[0m \u001b[0mint\u001b[0m\u001b[0;34m:\u001b[0m\u001b[0;34m\u001b[0m\u001b[0;34m\u001b[0m\u001b[0m\n\u001b[0;32m----> 4\u001b[0;31m         \u001b[0;32mraise\u001b[0m \u001b[0mTypeError\u001b[0m\u001b[0;34m(\u001b[0m\u001b[0;34m'only integers accepted'\u001b[0m\u001b[0;34m)\u001b[0m\u001b[0;34m\u001b[0m\u001b[0;34m\u001b[0m\u001b[0m\n\u001b[0m\u001b[1;32m      5\u001b[0m \u001b[0;34m\u001b[0m\u001b[0m\n\u001b[1;32m      6\u001b[0m     \u001b[0;32mif\u001b[0m \u001b[0mfirst\u001b[0m \u001b[0;34m==\u001b[0m \u001b[0msecond\u001b[0m\u001b[0;34m:\u001b[0m\u001b[0;34m\u001b[0m\u001b[0;34m\u001b[0m\u001b[0m\n",
      "\u001b[0;31mTypeError\u001b[0m: only integers accepted"
     ]
    }
   ],
   "source": [
    "compare('a',1)"
   ]
  },
  {
   "cell_type": "markdown",
   "id": "51eeff93",
   "metadata": {},
   "source": [
    "# Biological examples"
   ]
  },
  {
   "cell_type": "markdown",
   "id": "94ba7a7a",
   "metadata": {},
   "source": [
    "## Using basic python variables"
   ]
  },
  {
   "cell_type": "markdown",
   "id": "62bfecf7",
   "metadata": {},
   "source": [
    "### Sequence manipulation"
   ]
  },
  {
   "cell_type": "markdown",
   "id": "b7406d3f",
   "metadata": {},
   "source": [
    "5'-ATGCATGCATGC-3'\n",
    "   ||||||||||||\n",
    "3'-TACGTACGTACG-5'"
   ]
  },
  {
   "cell_type": "code",
   "execution_count": 65,
   "id": "e83fc90d",
   "metadata": {},
   "outputs": [],
   "source": [
    "n_conv = {\n",
    "    'a':'t',\n",
    "    't':'a',\n",
    "    'c':'g',\n",
    "    'g':'c'\n",
    "}"
   ]
  },
  {
   "cell_type": "code",
   "execution_count": 66,
   "id": "0b1e0622",
   "metadata": {},
   "outputs": [],
   "source": [
    "dna = 'atgcatgcatgc'"
   ]
  },
  {
   "cell_type": "code",
   "execution_count": 67,
   "id": "19eee6d4",
   "metadata": {},
   "outputs": [
    {
     "data": {
      "text/plain": [
       "'CGTACGTACGTA'"
      ]
     },
     "execution_count": 67,
     "metadata": {},
     "output_type": "execute_result"
    }
   ],
   "source": [
    "dna[::-1].upper() #obtaining the reverse of a dna sequence"
   ]
  },
  {
   "cell_type": "code",
   "execution_count": 68,
   "id": "0e0234b5",
   "metadata": {},
   "outputs": [
    {
     "data": {
      "text/plain": [
       "'TACGTACGTACG'"
      ]
     },
     "execution_count": 68,
     "metadata": {},
     "output_type": "execute_result"
    }
   ],
   "source": [
    "''.join([n_conv[e] for e in dna]).upper() #obtaining the complement of a dna sequence"
   ]
  },
  {
   "cell_type": "code",
   "execution_count": 69,
   "id": "895b6947",
   "metadata": {},
   "outputs": [
    {
     "data": {
      "text/plain": [
       "'GCATGCATGCAT'"
      ]
     },
     "execution_count": 69,
     "metadata": {},
     "output_type": "execute_result"
    }
   ],
   "source": [
    "''.join([n_conv[e] for e in dna])[::-1].upper() #obtaining the reverse complement of a dna sequence"
   ]
  },
  {
   "cell_type": "markdown",
   "id": "8086ec0b",
   "metadata": {},
   "source": [
    "### Answering simple ecological question with sets"
   ]
  },
  {
   "cell_type": "code",
   "execution_count": 70,
   "id": "120da812",
   "metadata": {},
   "outputs": [],
   "source": [
    "#phylum of bacteria present in 3 samples\n",
    "sample1 = ['Firmicutes', 'Firmicutes','Bacteroidetes', 'Proteobacteria', 'Actinobacteria', 'Fusobacteria']\n",
    "sample2 = ['firmicutes', 'bacteroidetes','bacteroidetes']\n",
    "sample3 = ['Bacteroidetes','Bacteroidetes','Proteobacteria']"
   ]
  },
  {
   "cell_type": "code",
   "execution_count": 71,
   "id": "ca463fdd",
   "metadata": {},
   "outputs": [],
   "source": [
    "sample1 = set(sample1)\n",
    "sample2 = set(sample2)\n",
    "sample3 = set(sample3)"
   ]
  },
  {
   "cell_type": "code",
   "execution_count": 72,
   "id": "c7d7c1f4",
   "metadata": {},
   "outputs": [
    {
     "data": {
      "text/plain": [
       "set()"
      ]
     },
     "execution_count": 72,
     "metadata": {},
     "output_type": "execute_result"
    }
   ],
   "source": [
    "sample1.intersection(sample2) #Why? #What is the problem?"
   ]
  },
  {
   "cell_type": "code",
   "execution_count": 73,
   "id": "cae07dc7",
   "metadata": {},
   "outputs": [],
   "source": [
    "sample2 = set([e.capitalize() for e in list(sample2)]) #capitalizing every word in the list"
   ]
  },
  {
   "cell_type": "code",
   "execution_count": 74,
   "id": "f649078f",
   "metadata": {},
   "outputs": [
    {
     "data": {
      "text/plain": [
       "{'Bacteroidetes', 'Firmicutes'}"
      ]
     },
     "execution_count": 74,
     "metadata": {},
     "output_type": "execute_result"
    }
   ],
   "source": [
    "sample1.intersection(sample2) #Now it works!"
   ]
  },
  {
   "cell_type": "code",
   "execution_count": 75,
   "id": "27a4acff",
   "metadata": {},
   "outputs": [
    {
     "data": {
      "text/plain": [
       "{'Bacteroidetes'}"
      ]
     },
     "execution_count": 75,
     "metadata": {},
     "output_type": "execute_result"
    }
   ],
   "source": [
    "sample1.intersection(sample2).intersection(sample3) #common bacteria among all samples"
   ]
  },
  {
   "cell_type": "code",
   "execution_count": 76,
   "id": "5c3ea27e",
   "metadata": {},
   "outputs": [
    {
     "data": {
      "text/plain": [
       "{'Actinobacteria',\n",
       " 'Bacteroidetes',\n",
       " 'Firmicutes',\n",
       " 'Fusobacteria',\n",
       " 'Proteobacteria'}"
      ]
     },
     "execution_count": 76,
     "metadata": {},
     "output_type": "execute_result"
    }
   ],
   "source": [
    "sample1.union(sample2).union(sample3) #all bacteria present in all samples"
   ]
  },
  {
   "cell_type": "code",
   "execution_count": 77,
   "id": "09d55faa",
   "metadata": {},
   "outputs": [
    {
     "data": {
      "text/plain": [
       "{'Actinobacteria', 'Fusobacteria'}"
      ]
     },
     "execution_count": 77,
     "metadata": {},
     "output_type": "execute_result"
    }
   ],
   "source": [
    "sample1-sample2-sample3 #bacteria thare only present in sample 1"
   ]
  },
  {
   "cell_type": "markdown",
   "id": "ddaa9c8d",
   "metadata": {},
   "source": [
    "# Pandas and Numpy"
   ]
  },
  {
   "cell_type": "code",
   "execution_count": 78,
   "id": "69880f45",
   "metadata": {},
   "outputs": [],
   "source": [
    "import pandas as pd\n",
    "import numpy as np"
   ]
  },
  {
   "cell_type": "code",
   "execution_count": 79,
   "id": "4a3e2bde",
   "metadata": {},
   "outputs": [
    {
     "data": {
      "text/plain": [
       "{'cat': 15, 'dog': 10, 'turtle': 100, 'fish': 1}"
      ]
     },
     "execution_count": 79,
     "metadata": {},
     "output_type": "execute_result"
    }
   ],
   "source": [
    "my_dict #previous created dictionary"
   ]
  },
  {
   "cell_type": "code",
   "execution_count": 80,
   "id": "a6e7d3a2",
   "metadata": {},
   "outputs": [],
   "source": [
    "life_pet = {'avg_life':my_dict} #creating a dictionary of dictionary"
   ]
  },
  {
   "cell_type": "code",
   "execution_count": 81,
   "id": "67ffd688",
   "metadata": {},
   "outputs": [
    {
     "data": {
      "text/plain": [
       "{'avg_life': {'cat': 15, 'dog': 10, 'turtle': 100, 'fish': 1}}"
      ]
     },
     "execution_count": 81,
     "metadata": {},
     "output_type": "execute_result"
    }
   ],
   "source": [
    "life_pet"
   ]
  },
  {
   "cell_type": "code",
   "execution_count": 82,
   "id": "a6da9d64",
   "metadata": {},
   "outputs": [],
   "source": [
    "df_pet = pd.DataFrame(life_pet) #transforming in DataFrame"
   ]
  },
  {
   "cell_type": "code",
   "execution_count": 83,
   "id": "c92c0766",
   "metadata": {},
   "outputs": [
    {
     "data": {
      "text/html": [
       "<div>\n",
       "<style scoped>\n",
       "    .dataframe tbody tr th:only-of-type {\n",
       "        vertical-align: middle;\n",
       "    }\n",
       "\n",
       "    .dataframe tbody tr th {\n",
       "        vertical-align: top;\n",
       "    }\n",
       "\n",
       "    .dataframe thead th {\n",
       "        text-align: right;\n",
       "    }\n",
       "</style>\n",
       "<table border=\"1\" class=\"dataframe\">\n",
       "  <thead>\n",
       "    <tr style=\"text-align: right;\">\n",
       "      <th></th>\n",
       "      <th>avg_life</th>\n",
       "    </tr>\n",
       "  </thead>\n",
       "  <tbody>\n",
       "    <tr>\n",
       "      <th>cat</th>\n",
       "      <td>15</td>\n",
       "    </tr>\n",
       "    <tr>\n",
       "      <th>dog</th>\n",
       "      <td>10</td>\n",
       "    </tr>\n",
       "    <tr>\n",
       "      <th>fish</th>\n",
       "      <td>1</td>\n",
       "    </tr>\n",
       "    <tr>\n",
       "      <th>turtle</th>\n",
       "      <td>100</td>\n",
       "    </tr>\n",
       "  </tbody>\n",
       "</table>\n",
       "</div>"
      ],
      "text/plain": [
       "        avg_life\n",
       "cat           15\n",
       "dog           10\n",
       "fish           1\n",
       "turtle       100"
      ]
     },
     "execution_count": 83,
     "metadata": {},
     "output_type": "execute_result"
    }
   ],
   "source": [
    "df_pet"
   ]
  },
  {
   "cell_type": "code",
   "execution_count": 84,
   "id": "2ed9ba89",
   "metadata": {},
   "outputs": [
    {
     "data": {
      "text/html": [
       "<div>\n",
       "<style scoped>\n",
       "    .dataframe tbody tr th:only-of-type {\n",
       "        vertical-align: middle;\n",
       "    }\n",
       "\n",
       "    .dataframe tbody tr th {\n",
       "        vertical-align: top;\n",
       "    }\n",
       "\n",
       "    .dataframe thead th {\n",
       "        text-align: right;\n",
       "    }\n",
       "</style>\n",
       "<table border=\"1\" class=\"dataframe\">\n",
       "  <thead>\n",
       "    <tr style=\"text-align: right;\">\n",
       "      <th></th>\n",
       "      <th>avg_life</th>\n",
       "    </tr>\n",
       "  </thead>\n",
       "  <tbody>\n",
       "    <tr>\n",
       "      <th>cat</th>\n",
       "      <td>15.0</td>\n",
       "    </tr>\n",
       "    <tr>\n",
       "      <th>dog</th>\n",
       "      <td>10.0</td>\n",
       "    </tr>\n",
       "    <tr>\n",
       "      <th>fish</th>\n",
       "      <td>NaN</td>\n",
       "    </tr>\n",
       "    <tr>\n",
       "      <th>turtle</th>\n",
       "      <td>100.0</td>\n",
       "    </tr>\n",
       "  </tbody>\n",
       "</table>\n",
       "</div>"
      ],
      "text/plain": [
       "        avg_life\n",
       "cat         15.0\n",
       "dog         10.0\n",
       "fish         NaN\n",
       "turtle     100.0"
      ]
     },
     "execution_count": 84,
     "metadata": {},
     "output_type": "execute_result"
    }
   ],
   "source": [
    "df_pet[df_pet >5] #slicing only keeping pet with avg_life greater than 5"
   ]
  },
  {
   "cell_type": "code",
   "execution_count": 85,
   "id": "c8293952",
   "metadata": {},
   "outputs": [
    {
     "data": {
      "text/html": [
       "<div>\n",
       "<style scoped>\n",
       "    .dataframe tbody tr th:only-of-type {\n",
       "        vertical-align: middle;\n",
       "    }\n",
       "\n",
       "    .dataframe tbody tr th {\n",
       "        vertical-align: top;\n",
       "    }\n",
       "\n",
       "    .dataframe thead th {\n",
       "        text-align: right;\n",
       "    }\n",
       "</style>\n",
       "<table border=\"1\" class=\"dataframe\">\n",
       "  <thead>\n",
       "    <tr style=\"text-align: right;\">\n",
       "      <th></th>\n",
       "      <th>avg_life</th>\n",
       "    </tr>\n",
       "  </thead>\n",
       "  <tbody>\n",
       "    <tr>\n",
       "      <th>cat</th>\n",
       "      <td>NaN</td>\n",
       "    </tr>\n",
       "    <tr>\n",
       "      <th>dog</th>\n",
       "      <td>10.0</td>\n",
       "    </tr>\n",
       "    <tr>\n",
       "      <th>fish</th>\n",
       "      <td>NaN</td>\n",
       "    </tr>\n",
       "    <tr>\n",
       "      <th>turtle</th>\n",
       "      <td>NaN</td>\n",
       "    </tr>\n",
       "  </tbody>\n",
       "</table>\n",
       "</div>"
      ],
      "text/plain": [
       "        avg_life\n",
       "cat          NaN\n",
       "dog         10.0\n",
       "fish         NaN\n",
       "turtle       NaN"
      ]
     },
     "execution_count": 85,
     "metadata": {},
     "output_type": "execute_result"
    }
   ],
   "source": [
    "df_pet[df_pet == 10] #slicing only keeping pet with avg_life exactly equal to 10"
   ]
  },
  {
   "cell_type": "code",
   "execution_count": 86,
   "id": "c721204b",
   "metadata": {},
   "outputs": [
    {
     "data": {
      "text/html": [
       "<div>\n",
       "<style scoped>\n",
       "    .dataframe tbody tr th:only-of-type {\n",
       "        vertical-align: middle;\n",
       "    }\n",
       "\n",
       "    .dataframe tbody tr th {\n",
       "        vertical-align: top;\n",
       "    }\n",
       "\n",
       "    .dataframe thead th {\n",
       "        text-align: right;\n",
       "    }\n",
       "</style>\n",
       "<table border=\"1\" class=\"dataframe\">\n",
       "  <thead>\n",
       "    <tr style=\"text-align: right;\">\n",
       "      <th></th>\n",
       "      <th>avg_life</th>\n",
       "    </tr>\n",
       "  </thead>\n",
       "  <tbody>\n",
       "    <tr>\n",
       "      <th>dog</th>\n",
       "      <td>10</td>\n",
       "    </tr>\n",
       "  </tbody>\n",
       "</table>\n",
       "</div>"
      ],
      "text/plain": [
       "     avg_life\n",
       "dog        10"
      ]
     },
     "execution_count": 86,
     "metadata": {},
     "output_type": "execute_result"
    }
   ],
   "source": [
    "df_pet.query('avg_life == 10') #querying the dataframe to get the record matching the query"
   ]
  },
  {
   "cell_type": "code",
   "execution_count": 87,
   "id": "ae763805",
   "metadata": {},
   "outputs": [
    {
     "data": {
      "text/html": [
       "<div>\n",
       "<style scoped>\n",
       "    .dataframe tbody tr th:only-of-type {\n",
       "        vertical-align: middle;\n",
       "    }\n",
       "\n",
       "    .dataframe tbody tr th {\n",
       "        vertical-align: top;\n",
       "    }\n",
       "\n",
       "    .dataframe thead th {\n",
       "        text-align: right;\n",
       "    }\n",
       "</style>\n",
       "<table border=\"1\" class=\"dataframe\">\n",
       "  <thead>\n",
       "    <tr style=\"text-align: right;\">\n",
       "      <th></th>\n",
       "      <th>avg_life</th>\n",
       "    </tr>\n",
       "  </thead>\n",
       "  <tbody>\n",
       "    <tr>\n",
       "      <th>count</th>\n",
       "      <td>4.0</td>\n",
       "    </tr>\n",
       "    <tr>\n",
       "      <th>mean</th>\n",
       "      <td>31.5</td>\n",
       "    </tr>\n",
       "    <tr>\n",
       "      <th>std</th>\n",
       "      <td>46.0</td>\n",
       "    </tr>\n",
       "    <tr>\n",
       "      <th>min</th>\n",
       "      <td>1.0</td>\n",
       "    </tr>\n",
       "    <tr>\n",
       "      <th>25%</th>\n",
       "      <td>7.8</td>\n",
       "    </tr>\n",
       "    <tr>\n",
       "      <th>50%</th>\n",
       "      <td>12.5</td>\n",
       "    </tr>\n",
       "    <tr>\n",
       "      <th>75%</th>\n",
       "      <td>36.2</td>\n",
       "    </tr>\n",
       "    <tr>\n",
       "      <th>max</th>\n",
       "      <td>100.0</td>\n",
       "    </tr>\n",
       "  </tbody>\n",
       "</table>\n",
       "</div>"
      ],
      "text/plain": [
       "       avg_life\n",
       "count       4.0\n",
       "mean       31.5\n",
       "std        46.0\n",
       "min         1.0\n",
       "25%         7.8\n",
       "50%        12.5\n",
       "75%        36.2\n",
       "max       100.0"
      ]
     },
     "execution_count": 87,
     "metadata": {},
     "output_type": "execute_result"
    }
   ],
   "source": [
    "df_pet.describe().round(1) #getting summary statistics and round the values at the 1st decimal number"
   ]
  },
  {
   "cell_type": "code",
   "execution_count": 88,
   "id": "c6308548",
   "metadata": {},
   "outputs": [
    {
     "data": {
      "text/html": [
       "<div>\n",
       "<style scoped>\n",
       "    .dataframe tbody tr th:only-of-type {\n",
       "        vertical-align: middle;\n",
       "    }\n",
       "\n",
       "    .dataframe tbody tr th {\n",
       "        vertical-align: top;\n",
       "    }\n",
       "\n",
       "    .dataframe thead th {\n",
       "        text-align: right;\n",
       "    }\n",
       "</style>\n",
       "<table border=\"1\" class=\"dataframe\">\n",
       "  <thead>\n",
       "    <tr style=\"text-align: right;\">\n",
       "      <th></th>\n",
       "      <th>avg_life</th>\n",
       "    </tr>\n",
       "  </thead>\n",
       "  <tbody>\n",
       "    <tr>\n",
       "      <th>turtle</th>\n",
       "      <td>100</td>\n",
       "    </tr>\n",
       "    <tr>\n",
       "      <th>cat</th>\n",
       "      <td>15</td>\n",
       "    </tr>\n",
       "  </tbody>\n",
       "</table>\n",
       "</div>"
      ],
      "text/plain": [
       "        avg_life\n",
       "turtle       100\n",
       "cat           15"
      ]
     },
     "execution_count": 88,
     "metadata": {},
     "output_type": "execute_result"
    }
   ],
   "source": [
    "df_pet.sample(2) #randomly sample the dataframe for sample size == 2"
   ]
  },
  {
   "cell_type": "code",
   "execution_count": 89,
   "id": "133a4dc1",
   "metadata": {},
   "outputs": [
    {
     "data": {
      "text/plain": [
       "avg_life    12.5\n",
       "dtype: float64"
      ]
     },
     "execution_count": 89,
     "metadata": {},
     "output_type": "execute_result"
    }
   ],
   "source": [
    "df_pet.median() #calculating the median"
   ]
  },
  {
   "cell_type": "code",
   "execution_count": 90,
   "id": "9754956c",
   "metadata": {},
   "outputs": [
    {
     "data": {
      "text/plain": [
       "avg_life    31.5\n",
       "dtype: float64"
      ]
     },
     "execution_count": 90,
     "metadata": {},
     "output_type": "execute_result"
    }
   ],
   "source": [
    "df_pet.mean() #calculating the mean"
   ]
  },
  {
   "cell_type": "code",
   "execution_count": 91,
   "id": "7597b476",
   "metadata": {},
   "outputs": [
    {
     "data": {
      "text/plain": [
       "array([1, 2, 3, 5])"
      ]
     },
     "execution_count": 91,
     "metadata": {},
     "output_type": "execute_result"
    }
   ],
   "source": [
    "np.array([1,2,3,5]) #creating an array"
   ]
  },
  {
   "cell_type": "code",
   "execution_count": 92,
   "id": "5f3e6d7c",
   "metadata": {},
   "outputs": [
    {
     "data": {
      "text/plain": [
       "array([0.5, 1. ])"
      ]
     },
     "execution_count": 92,
     "metadata": {},
     "output_type": "execute_result"
    }
   ],
   "source": [
    "np.array([0.5,1]) #what happen if we put two different type of variable in an array?"
   ]
  },
  {
   "cell_type": "code",
   "execution_count": 93,
   "id": "720ff28a",
   "metadata": {},
   "outputs": [
    {
     "data": {
      "text/plain": [
       "array(['1', 'a'], dtype='<U21')"
      ]
     },
     "execution_count": 93,
     "metadata": {},
     "output_type": "execute_result"
    }
   ],
   "source": [
    "np.array([1,'a']) #what happen if we put two different type of variable in an array?"
   ]
  },
  {
   "cell_type": "code",
   "execution_count": 94,
   "id": "c2d14c06",
   "metadata": {},
   "outputs": [],
   "source": [
    "#creating a multidimensional array of size (3,3)\n",
    "arr_md = np.array([[1,0.1,1],\n",
    "        [1,1,1],\n",
    "        [0.1,1,1]])"
   ]
  },
  {
   "cell_type": "code",
   "execution_count": 95,
   "id": "5e6e6dc3",
   "metadata": {},
   "outputs": [
    {
     "data": {
      "text/plain": [
       "(3, 3)"
      ]
     },
     "execution_count": 95,
     "metadata": {},
     "output_type": "execute_result"
    }
   ],
   "source": [
    "arr_md.shape"
   ]
  },
  {
   "cell_type": "code",
   "execution_count": 96,
   "id": "89c14bff",
   "metadata": {},
   "outputs": [
    {
     "data": {
      "text/plain": [
       "array([[1. , 0.1, 1. ],\n",
       "       [1. , 1. , 1. ],\n",
       "       [0.1, 1. , 1. ]])"
      ]
     },
     "execution_count": 96,
     "metadata": {},
     "output_type": "execute_result"
    }
   ],
   "source": [
    "arr_md"
   ]
  },
  {
   "cell_type": "code",
   "execution_count": 97,
   "id": "b490fb6a",
   "metadata": {},
   "outputs": [
    {
     "data": {
      "text/html": [
       "<div>\n",
       "<style scoped>\n",
       "    .dataframe tbody tr th:only-of-type {\n",
       "        vertical-align: middle;\n",
       "    }\n",
       "\n",
       "    .dataframe tbody tr th {\n",
       "        vertical-align: top;\n",
       "    }\n",
       "\n",
       "    .dataframe thead th {\n",
       "        text-align: right;\n",
       "    }\n",
       "</style>\n",
       "<table border=\"1\" class=\"dataframe\">\n",
       "  <thead>\n",
       "    <tr style=\"text-align: right;\">\n",
       "      <th></th>\n",
       "      <th>0</th>\n",
       "      <th>1</th>\n",
       "      <th>2</th>\n",
       "    </tr>\n",
       "  </thead>\n",
       "  <tbody>\n",
       "    <tr>\n",
       "      <th>0</th>\n",
       "      <td>1.0</td>\n",
       "      <td>0.1</td>\n",
       "      <td>1.0</td>\n",
       "    </tr>\n",
       "    <tr>\n",
       "      <th>1</th>\n",
       "      <td>1.0</td>\n",
       "      <td>1.0</td>\n",
       "      <td>1.0</td>\n",
       "    </tr>\n",
       "    <tr>\n",
       "      <th>2</th>\n",
       "      <td>0.1</td>\n",
       "      <td>1.0</td>\n",
       "      <td>1.0</td>\n",
       "    </tr>\n",
       "  </tbody>\n",
       "</table>\n",
       "</div>"
      ],
      "text/plain": [
       "     0    1    2\n",
       "0  1.0  0.1  1.0\n",
       "1  1.0  1.0  1.0\n",
       "2  0.1  1.0  1.0"
      ]
     },
     "execution_count": 97,
     "metadata": {},
     "output_type": "execute_result"
    }
   ],
   "source": [
    "pd.DataFrame(arr_md) #converting an array in dataframe"
   ]
  },
  {
   "cell_type": "markdown",
   "id": "d085909f",
   "metadata": {},
   "source": [
    "The power of arrays (and dataframe) is the **multidimentional operations**"
   ]
  },
  {
   "cell_type": "code",
   "execution_count": 98,
   "id": "7f4f9e5a",
   "metadata": {},
   "outputs": [
    {
     "data": {
      "text/plain": [
       "array([[2. , 0.2, 2. ],\n",
       "       [2. , 2. , 2. ],\n",
       "       [0.2, 2. , 2. ]])"
      ]
     },
     "execution_count": 98,
     "metadata": {},
     "output_type": "execute_result"
    }
   ],
   "source": [
    "arr_md * 2  #multipling each value of the array by 2"
   ]
  },
  {
   "cell_type": "code",
   "execution_count": 99,
   "id": "67db4355",
   "metadata": {},
   "outputs": [
    {
     "data": {
      "text/plain": [
       "array([[2. , 1.1, 2. ],\n",
       "       [2. , 2. , 2. ],\n",
       "       [1.1, 2. , 2. ]])"
      ]
     },
     "execution_count": 99,
     "metadata": {},
     "output_type": "execute_result"
    }
   ],
   "source": [
    "arr_md + 1 #adding to each value of the array 1"
   ]
  },
  {
   "cell_type": "code",
   "execution_count": 100,
   "id": "f1b8bd8f",
   "metadata": {},
   "outputs": [
    {
     "data": {
      "text/plain": [
       "array([[1.  , 0.01, 1.  ],\n",
       "       [1.  , 1.  , 1.  ],\n",
       "       [0.01, 1.  , 1.  ]])"
      ]
     },
     "execution_count": 100,
     "metadata": {},
     "output_type": "execute_result"
    }
   ],
   "source": [
    "arr_md * arr_md #multypling the array by himself"
   ]
  },
  {
   "cell_type": "code",
   "execution_count": 101,
   "id": "f5c8bdee",
   "metadata": {},
   "outputs": [
    {
     "data": {
      "text/plain": [
       "array([[1.2 , 1.2 , 2.1 ],\n",
       "       [2.1 , 2.1 , 3.  ],\n",
       "       [1.2 , 2.01, 2.1 ]])"
      ]
     },
     "execution_count": 101,
     "metadata": {},
     "output_type": "execute_result"
    }
   ],
   "source": [
    "arr_md @ arr_md #matrix multiplication"
   ]
  },
  {
   "cell_type": "code",
   "execution_count": 102,
   "id": "658d060a",
   "metadata": {},
   "outputs": [
    {
     "data": {
      "text/plain": [
       "array([ 0,  1,  2,  3,  4,  5,  6,  7,  8,  9, 10, 11, 12, 13, 14, 15, 16,\n",
       "       17, 18, 19, 20, 21, 22, 23, 24, 25, 26, 27, 28, 29, 30, 31, 32, 33,\n",
       "       34, 35, 36, 37, 38, 39, 40, 41, 42, 43, 44, 45, 46, 47, 48, 49, 50,\n",
       "       51, 52, 53, 54, 55, 56, 57, 58, 59, 60, 61, 62, 63, 64, 65, 66, 67,\n",
       "       68, 69, 70, 71, 72, 73, 74, 75, 76, 77, 78, 79, 80, 81, 82, 83, 84,\n",
       "       85, 86, 87, 88, 89, 90, 91, 92, 93, 94, 95, 96, 97, 98, 99])"
      ]
     },
     "execution_count": 102,
     "metadata": {},
     "output_type": "execute_result"
    }
   ],
   "source": [
    "np.arange(0,100,1) #create a range [0,100[ with an increment of 1"
   ]
  },
  {
   "cell_type": "markdown",
   "id": "35f797ec",
   "metadata": {},
   "source": [
    "### creating numbers with numpy"
   ]
  },
  {
   "cell_type": "code",
   "execution_count": 103,
   "id": "12038dd2",
   "metadata": {},
   "outputs": [
    {
     "data": {
      "text/plain": [
       "array([ 0, 10, 20, 30, 40, 50, 60, 70, 80, 90])"
      ]
     },
     "execution_count": 103,
     "metadata": {},
     "output_type": "execute_result"
    }
   ],
   "source": [
    "np.arange(0,100,10) #create a range [0,100[ with an increment of 10"
   ]
  },
  {
   "cell_type": "code",
   "execution_count": 104,
   "id": "c5deace7",
   "metadata": {},
   "outputs": [
    {
     "data": {
      "text/plain": [
       "77"
      ]
     },
     "execution_count": 104,
     "metadata": {},
     "output_type": "execute_result"
    }
   ],
   "source": [
    "np.random.randint(0,100) #produce a random integers in range [0,100]"
   ]
  },
  {
   "cell_type": "code",
   "execution_count": 105,
   "id": "711e9f3d",
   "metadata": {},
   "outputs": [
    {
     "data": {
      "text/plain": [
       "array([-2.24735243, -0.16875298,  1.4205408 , -1.50566229, -1.74136174,\n",
       "       -1.57457834,  0.65017947,  0.53845633,  1.04382737, -0.74989668])"
      ]
     },
     "execution_count": 105,
     "metadata": {},
     "output_type": "execute_result"
    }
   ],
   "source": [
    "np.random.randn(10) #produce 10 numbers in a normal distribution with mean = 0 and sd = 1"
   ]
  },
  {
   "cell_type": "code",
   "execution_count": 106,
   "id": "370711b5",
   "metadata": {},
   "outputs": [
    {
     "data": {
      "text/plain": [
       "array([[ 15],\n",
       "       [ 10],\n",
       "       [  1],\n",
       "       [100]])"
      ]
     },
     "execution_count": 106,
     "metadata": {},
     "output_type": "execute_result"
    }
   ],
   "source": [
    "df_pet.to_numpy() #converting a dataframe to numpy array"
   ]
  },
  {
   "cell_type": "code",
   "execution_count": 107,
   "id": "49a1df55",
   "metadata": {},
   "outputs": [
    {
     "data": {
      "text/plain": [
       "{'Actinobacteria',\n",
       " 'Bacteroidetes',\n",
       " 'Firmicutes',\n",
       " 'Fusobacteria',\n",
       " 'Proteobacteria'}"
      ]
     },
     "execution_count": 107,
     "metadata": {},
     "output_type": "execute_result"
    }
   ],
   "source": [
    "sample1"
   ]
  },
  {
   "cell_type": "code",
   "execution_count": 108,
   "id": "d1aee460",
   "metadata": {},
   "outputs": [],
   "source": [
    "#np.random.randint produce n int number in the range [0,100]\n",
    "#creating a dataframe per each sample\n",
    "c_smp1 = pd.DataFrame({'smp1':{e:f for e in sample1 for f in np.random.randint(0,100,len(sample1))}})\n",
    "c_smp2 = pd.DataFrame({'smp2':{e:f for e in sample2 for f in np.random.randint(0,100,len(sample2))}})\n",
    "c_smp3 = pd.DataFrame({'smp3':{e:f for e in sample3 for f in np.random.randint(0,100,len(sample3))}})"
   ]
  },
  {
   "cell_type": "code",
   "execution_count": 109,
   "id": "e421be4b",
   "metadata": {},
   "outputs": [],
   "source": [
    "feat_tab = pd.concat([c_smp1,c_smp2, c_smp3]) #concatenating different dataframe in a single dataframe"
   ]
  },
  {
   "cell_type": "code",
   "execution_count": 110,
   "id": "19c6f9a1",
   "metadata": {},
   "outputs": [],
   "source": [
    "feat_tab = feat_tab.replace(np.nan, 0) #replacing NaN with 0"
   ]
  },
  {
   "cell_type": "code",
   "execution_count": 111,
   "id": "b9303cde",
   "metadata": {},
   "outputs": [],
   "source": [
    "feat_tab = feat_tab/feat_tab.sum()"
   ]
  },
  {
   "cell_type": "code",
   "execution_count": 112,
   "id": "e7896c2a",
   "metadata": {},
   "outputs": [
    {
     "data": {
      "text/html": [
       "<div>\n",
       "<style scoped>\n",
       "    .dataframe tbody tr th:only-of-type {\n",
       "        vertical-align: middle;\n",
       "    }\n",
       "\n",
       "    .dataframe tbody tr th {\n",
       "        vertical-align: top;\n",
       "    }\n",
       "\n",
       "    .dataframe thead th {\n",
       "        text-align: right;\n",
       "    }\n",
       "</style>\n",
       "<table border=\"1\" class=\"dataframe\">\n",
       "  <thead>\n",
       "    <tr style=\"text-align: right;\">\n",
       "      <th></th>\n",
       "      <th>smp1</th>\n",
       "      <th>smp2</th>\n",
       "      <th>smp3</th>\n",
       "    </tr>\n",
       "  </thead>\n",
       "  <tbody>\n",
       "    <tr>\n",
       "      <th>Actinobacteria</th>\n",
       "      <td>NaN</td>\n",
       "      <td>NaN</td>\n",
       "      <td>NaN</td>\n",
       "    </tr>\n",
       "    <tr>\n",
       "      <th>Bacteroidetes</th>\n",
       "      <td>NaN</td>\n",
       "      <td>NaN</td>\n",
       "      <td>NaN</td>\n",
       "    </tr>\n",
       "    <tr>\n",
       "      <th>Firmicutes</th>\n",
       "      <td>NaN</td>\n",
       "      <td>NaN</td>\n",
       "      <td>NaN</td>\n",
       "    </tr>\n",
       "    <tr>\n",
       "      <th>Fusobacteria</th>\n",
       "      <td>0.263456</td>\n",
       "      <td>NaN</td>\n",
       "      <td>NaN</td>\n",
       "    </tr>\n",
       "    <tr>\n",
       "      <th>Proteobacteria</th>\n",
       "      <td>NaN</td>\n",
       "      <td>NaN</td>\n",
       "      <td>NaN</td>\n",
       "    </tr>\n",
       "    <tr>\n",
       "      <th>Bacteroidetes</th>\n",
       "      <td>NaN</td>\n",
       "      <td>NaN</td>\n",
       "      <td>NaN</td>\n",
       "    </tr>\n",
       "    <tr>\n",
       "      <th>Firmicutes</th>\n",
       "      <td>NaN</td>\n",
       "      <td>0.650602</td>\n",
       "      <td>NaN</td>\n",
       "    </tr>\n",
       "    <tr>\n",
       "      <th>Bacteroidetes</th>\n",
       "      <td>NaN</td>\n",
       "      <td>NaN</td>\n",
       "      <td>0.890411</td>\n",
       "    </tr>\n",
       "    <tr>\n",
       "      <th>Proteobacteria</th>\n",
       "      <td>NaN</td>\n",
       "      <td>NaN</td>\n",
       "      <td>NaN</td>\n",
       "    </tr>\n",
       "  </tbody>\n",
       "</table>\n",
       "</div>"
      ],
      "text/plain": [
       "                    smp1      smp2      smp3\n",
       "Actinobacteria       NaN       NaN       NaN\n",
       "Bacteroidetes        NaN       NaN       NaN\n",
       "Firmicutes           NaN       NaN       NaN\n",
       "Fusobacteria    0.263456       NaN       NaN\n",
       "Proteobacteria       NaN       NaN       NaN\n",
       "Bacteroidetes        NaN       NaN       NaN\n",
       "Firmicutes           NaN  0.650602       NaN\n",
       "Bacteroidetes        NaN       NaN  0.890411\n",
       "Proteobacteria       NaN       NaN       NaN"
      ]
     },
     "execution_count": 112,
     "metadata": {},
     "output_type": "execute_result"
    }
   ],
   "source": [
    "feat_tab[feat_tab == feat_tab.max()] #who are the must abundant in each sample"
   ]
  },
  {
   "cell_type": "code",
   "execution_count": 113,
   "id": "00bce629",
   "metadata": {},
   "outputs": [
    {
     "data": {
      "text/plain": [
       "smp1    0.263456\n",
       "smp2    0.650602\n",
       "smp3    0.890411\n",
       "dtype: float64"
      ]
     },
     "execution_count": 113,
     "metadata": {},
     "output_type": "execute_result"
    }
   ],
   "source": [
    "feat_tab.max(axis=0) #greteast abundance found in one sample"
   ]
  },
  {
   "cell_type": "code",
   "execution_count": 114,
   "id": "f7ec0c25",
   "metadata": {},
   "outputs": [
    {
     "data": {
      "text/plain": [
       "Actinobacteria    0.215297\n",
       "Bacteroidetes     0.155807\n",
       "Firmicutes        0.254958\n",
       "Fusobacteria      0.263456\n",
       "Proteobacteria    0.110482\n",
       "Bacteroidetes     0.349398\n",
       "Firmicutes        0.650602\n",
       "Bacteroidetes     0.890411\n",
       "Proteobacteria    0.109589\n",
       "dtype: float64"
      ]
     },
     "execution_count": 114,
     "metadata": {},
     "output_type": "execute_result"
    }
   ],
   "source": [
    "feat_tab.max(axis=1) #greatest abundance per phyla among all samples"
   ]
  },
  {
   "cell_type": "code",
   "execution_count": 115,
   "id": "b89b67b5",
   "metadata": {},
   "outputs": [
    {
     "data": {
      "text/plain": [
       "0.8904109589041096"
      ]
     },
     "execution_count": 115,
     "metadata": {},
     "output_type": "execute_result"
    }
   ],
   "source": [
    "feat_tab.max().max() #greatest abundance among all sample"
   ]
  },
  {
   "cell_type": "code",
   "execution_count": 116,
   "id": "0c703216",
   "metadata": {},
   "outputs": [
    {
     "data": {
      "text/html": [
       "<div>\n",
       "<style scoped>\n",
       "    .dataframe tbody tr th:only-of-type {\n",
       "        vertical-align: middle;\n",
       "    }\n",
       "\n",
       "    .dataframe tbody tr th {\n",
       "        vertical-align: top;\n",
       "    }\n",
       "\n",
       "    .dataframe thead th {\n",
       "        text-align: right;\n",
       "    }\n",
       "</style>\n",
       "<table border=\"1\" class=\"dataframe\">\n",
       "  <thead>\n",
       "    <tr style=\"text-align: right;\">\n",
       "      <th></th>\n",
       "      <th>smp1</th>\n",
       "      <th>smp2</th>\n",
       "      <th>smp3</th>\n",
       "    </tr>\n",
       "  </thead>\n",
       "  <tbody>\n",
       "    <tr>\n",
       "      <th>Actinobacteria</th>\n",
       "      <td>NaN</td>\n",
       "      <td>NaN</td>\n",
       "      <td>NaN</td>\n",
       "    </tr>\n",
       "    <tr>\n",
       "      <th>Bacteroidetes</th>\n",
       "      <td>NaN</td>\n",
       "      <td>NaN</td>\n",
       "      <td>NaN</td>\n",
       "    </tr>\n",
       "    <tr>\n",
       "      <th>Firmicutes</th>\n",
       "      <td>NaN</td>\n",
       "      <td>NaN</td>\n",
       "      <td>NaN</td>\n",
       "    </tr>\n",
       "    <tr>\n",
       "      <th>Fusobacteria</th>\n",
       "      <td>NaN</td>\n",
       "      <td>NaN</td>\n",
       "      <td>NaN</td>\n",
       "    </tr>\n",
       "    <tr>\n",
       "      <th>Proteobacteria</th>\n",
       "      <td>NaN</td>\n",
       "      <td>NaN</td>\n",
       "      <td>NaN</td>\n",
       "    </tr>\n",
       "    <tr>\n",
       "      <th>Bacteroidetes</th>\n",
       "      <td>NaN</td>\n",
       "      <td>NaN</td>\n",
       "      <td>NaN</td>\n",
       "    </tr>\n",
       "    <tr>\n",
       "      <th>Firmicutes</th>\n",
       "      <td>NaN</td>\n",
       "      <td>NaN</td>\n",
       "      <td>NaN</td>\n",
       "    </tr>\n",
       "    <tr>\n",
       "      <th>Bacteroidetes</th>\n",
       "      <td>NaN</td>\n",
       "      <td>NaN</td>\n",
       "      <td>0.890411</td>\n",
       "    </tr>\n",
       "    <tr>\n",
       "      <th>Proteobacteria</th>\n",
       "      <td>NaN</td>\n",
       "      <td>NaN</td>\n",
       "      <td>NaN</td>\n",
       "    </tr>\n",
       "  </tbody>\n",
       "</table>\n",
       "</div>"
      ],
      "text/plain": [
       "                smp1  smp2      smp3\n",
       "Actinobacteria   NaN   NaN       NaN\n",
       "Bacteroidetes    NaN   NaN       NaN\n",
       "Firmicutes       NaN   NaN       NaN\n",
       "Fusobacteria     NaN   NaN       NaN\n",
       "Proteobacteria   NaN   NaN       NaN\n",
       "Bacteroidetes    NaN   NaN       NaN\n",
       "Firmicutes       NaN   NaN       NaN\n",
       "Bacteroidetes    NaN   NaN  0.890411\n",
       "Proteobacteria   NaN   NaN       NaN"
      ]
     },
     "execution_count": 116,
     "metadata": {},
     "output_type": "execute_result"
    }
   ],
   "source": [
    "feat_tab[feat_tab == feat_tab.max().max()]"
   ]
  },
  {
   "cell_type": "markdown",
   "id": "d88fc586",
   "metadata": {},
   "source": [
    "# BIOM format\n"
   ]
  },
  {
   "cell_type": "code",
   "execution_count": 117,
   "id": "4963fb06",
   "metadata": {},
   "outputs": [],
   "source": [
    "from biom import load_table #importing library "
   ]
  },
  {
   "cell_type": "code",
   "execution_count": 118,
   "id": "0f606d7e",
   "metadata": {},
   "outputs": [],
   "source": [
    "feat_tab = load_table('feature-table.biom') #importing table"
   ]
  },
  {
   "cell_type": "code",
   "execution_count": 119,
   "id": "add3556f",
   "metadata": {},
   "outputs": [
    {
     "data": {
      "text/plain": [
       "4545 x 21 <class 'biom.table.Table'> with 12249 nonzero entries (12% dense)"
      ]
     },
     "execution_count": 119,
     "metadata": {},
     "output_type": "execute_result"
    }
   ],
   "source": [
    "feat_tab"
   ]
  },
  {
   "cell_type": "code",
   "execution_count": 120,
   "id": "dd6b471f",
   "metadata": {},
   "outputs": [
    {
     "data": {
      "text/plain": [
       "array(['81023771cad8637c6b48e60c873a1b47',\n",
       "       '8cbcfed6c0090265c4d7e204585bcc34',\n",
       "       'f4dcd86ee0af72bfc8e39524eb37a1a3', ...,\n",
       "       'ad64d045b250c8724d4953254f72684a',\n",
       "       '166c3748e5757085184b8cb6cc122dbd',\n",
       "       'a31915049f522141d52fc1e66975adc2'], dtype='<U32')"
      ]
     },
     "execution_count": 120,
     "metadata": {},
     "output_type": "execute_result"
    }
   ],
   "source": [
    "feat_tab.ids('observation') #list of all ASVs"
   ]
  },
  {
   "cell_type": "code",
   "execution_count": 121,
   "id": "933bce1d",
   "metadata": {},
   "outputs": [
    {
     "data": {
      "text/plain": [
       "array(['49', '56B', '60', '62B', '65B', '67C', '68', '68C', '68F', '69',\n",
       "       '70', '70C', '70F', '71', '71C', '73B', '74C', '76', '76C', '76F',\n",
       "       '77'], dtype='<U3')"
      ]
     },
     "execution_count": 121,
     "metadata": {},
     "output_type": "execute_result"
    }
   ],
   "source": [
    "feat_tab.ids('sample') #list of all samples"
   ]
  },
  {
   "cell_type": "code",
   "execution_count": 122,
   "id": "019d023c",
   "metadata": {},
   "outputs": [
    {
     "data": {
      "text/plain": [
       "array([  38., 3754.,  230., ...,    0.,    0.,    0.])"
      ]
     },
     "execution_count": 122,
     "metadata": {},
     "output_type": "execute_result"
    }
   ],
   "source": [
    "feat_tab.data('49') #values for sample 49"
   ]
  },
  {
   "cell_type": "code",
   "execution_count": 123,
   "id": "8239135b",
   "metadata": {},
   "outputs": [
    {
     "data": {
      "text/plain": [
       "4545 x 3 <class 'biom.table.Table'> with 1163 nonzero entries (8% dense)"
      ]
     },
     "execution_count": 123,
     "metadata": {},
     "output_type": "execute_result"
    }
   ],
   "source": [
    "feat_tab.filter(['49','56B','62B'], axis = 'sample', inplace = False)"
   ]
  },
  {
   "cell_type": "code",
   "execution_count": 124,
   "id": "e41f67a8",
   "metadata": {},
   "outputs": [
    {
     "data": {
      "text/plain": [
       "1 x 21 <class 'biom.table.Table'> with 21 nonzero entries (100% dense)"
      ]
     },
     "execution_count": 124,
     "metadata": {},
     "output_type": "execute_result"
    }
   ],
   "source": [
    "feat_tab.filter(['81023771cad8637c6b48e60c873a1b47'], axis = 'observation', inplace = False)"
   ]
  },
  {
   "cell_type": "code",
   "execution_count": 125,
   "id": "b1422a4d",
   "metadata": {},
   "outputs": [
    {
     "data": {
      "text/plain": [
       "4545 x 18 <class 'biom.table.Table'> with 11086 nonzero entries (13% dense)"
      ]
     },
     "execution_count": 125,
     "metadata": {},
     "output_type": "execute_result"
    }
   ],
   "source": [
    "feat_tab.filter(['49','56B','62B'], axis = 'sample', invert = True, inplace = False)"
   ]
  },
  {
   "cell_type": "code",
   "execution_count": 126,
   "id": "b8886dc8",
   "metadata": {},
   "outputs": [
    {
     "data": {
      "text/plain": [
       "4545 x 3 <class 'biom.table.Table'> with 1163 nonzero entries (8% dense)"
      ]
     },
     "execution_count": 126,
     "metadata": {},
     "output_type": "execute_result"
    }
   ],
   "source": [
    "feat_tab.filter(['49','56B','62B'], axis = 'sample', inplace = True)"
   ]
  },
  {
   "cell_type": "code",
   "execution_count": 127,
   "id": "2deb7acc",
   "metadata": {},
   "outputs": [
    {
     "data": {
      "text/plain": [
       "1 x 3 <class 'biom.table.Table'> with 3 nonzero entries (100% dense)"
      ]
     },
     "execution_count": 127,
     "metadata": {},
     "output_type": "execute_result"
    }
   ],
   "source": [
    "feat_tab.filter(['81023771cad8637c6b48e60c873a1b47'], axis = 'observation', inplace = True)"
   ]
  },
  {
   "cell_type": "code",
   "execution_count": 128,
   "id": "fe8cb24e",
   "metadata": {},
   "outputs": [
    {
     "data": {
      "text/html": [
       "<div>\n",
       "<style scoped>\n",
       "    .dataframe tbody tr th:only-of-type {\n",
       "        vertical-align: middle;\n",
       "    }\n",
       "\n",
       "    .dataframe tbody tr th {\n",
       "        vertical-align: top;\n",
       "    }\n",
       "\n",
       "    .dataframe thead th {\n",
       "        text-align: right;\n",
       "    }\n",
       "</style>\n",
       "<table border=\"1\" class=\"dataframe\">\n",
       "  <thead>\n",
       "    <tr style=\"text-align: right;\">\n",
       "      <th></th>\n",
       "      <th>49</th>\n",
       "      <th>56B</th>\n",
       "      <th>62B</th>\n",
       "    </tr>\n",
       "  </thead>\n",
       "  <tbody>\n",
       "    <tr>\n",
       "      <th>81023771cad8637c6b48e60c873a1b47</th>\n",
       "      <td>38.0</td>\n",
       "      <td>901.0</td>\n",
       "      <td>8373.0</td>\n",
       "    </tr>\n",
       "  </tbody>\n",
       "</table>\n",
       "</div>"
      ],
      "text/plain": [
       "                                    49    56B     62B\n",
       "81023771cad8637c6b48e60c873a1b47  38.0  901.0  8373.0"
      ]
     },
     "execution_count": 128,
     "metadata": {},
     "output_type": "execute_result"
    }
   ],
   "source": [
    "feat_tab.to_dataframe()"
   ]
  },
  {
   "cell_type": "code",
   "execution_count": 129,
   "id": "d946453a",
   "metadata": {},
   "outputs": [
    {
     "name": "stdout",
     "output_type": "stream",
     "text": [
      "# Constructed from biom file\n",
      "#OTU ID\t49\t56B\t62B\n",
      "81023771cad8637c6b48e60c873a1b47\t38.0\t901.0\t8373.0\n"
     ]
    }
   ],
   "source": [
    "print(feat_tab.to_tsv())"
   ]
  },
  {
   "cell_type": "code",
   "execution_count": 130,
   "id": "8f42bcff",
   "metadata": {},
   "outputs": [],
   "source": [
    "with open('filtered_tab.tsv','w') as f:\n",
    "    feat_tab.to_tsv(direct_io=f)"
   ]
  },
  {
   "cell_type": "code",
   "execution_count": 131,
   "id": "38d0ae7f",
   "metadata": {},
   "outputs": [],
   "source": [
    "feat_tab = load_table('feature-table.biom') #importing table"
   ]
  },
  {
   "cell_type": "code",
   "execution_count": 132,
   "id": "8d5ed361",
   "metadata": {},
   "outputs": [
    {
     "data": {
      "text/html": [
       "<div>\n",
       "<style scoped>\n",
       "    .dataframe tbody tr th:only-of-type {\n",
       "        vertical-align: middle;\n",
       "    }\n",
       "\n",
       "    .dataframe tbody tr th {\n",
       "        vertical-align: top;\n",
       "    }\n",
       "\n",
       "    .dataframe thead th {\n",
       "        text-align: right;\n",
       "    }\n",
       "</style>\n",
       "<table border=\"1\" class=\"dataframe\">\n",
       "  <thead>\n",
       "    <tr style=\"text-align: right;\">\n",
       "      <th></th>\n",
       "      <th>49</th>\n",
       "      <th>56B</th>\n",
       "      <th>60</th>\n",
       "      <th>62B</th>\n",
       "      <th>65B</th>\n",
       "      <th>67C</th>\n",
       "      <th>68</th>\n",
       "      <th>68C</th>\n",
       "      <th>68F</th>\n",
       "      <th>69</th>\n",
       "      <th>...</th>\n",
       "      <th>70C</th>\n",
       "      <th>70F</th>\n",
       "      <th>71</th>\n",
       "      <th>71C</th>\n",
       "      <th>73B</th>\n",
       "      <th>74C</th>\n",
       "      <th>76</th>\n",
       "      <th>76C</th>\n",
       "      <th>76F</th>\n",
       "      <th>77</th>\n",
       "    </tr>\n",
       "  </thead>\n",
       "  <tbody>\n",
       "    <tr>\n",
       "      <th>81023771cad8637c6b48e60c873a1b47</th>\n",
       "      <td>38.0</td>\n",
       "      <td>901.0</td>\n",
       "      <td>8053.0</td>\n",
       "      <td>8373.0</td>\n",
       "      <td>10262.0</td>\n",
       "      <td>566.0</td>\n",
       "      <td>107.0</td>\n",
       "      <td>100.0</td>\n",
       "      <td>109.0</td>\n",
       "      <td>1862.0</td>\n",
       "      <td>...</td>\n",
       "      <td>184.0</td>\n",
       "      <td>749.0</td>\n",
       "      <td>545.0</td>\n",
       "      <td>1176.0</td>\n",
       "      <td>525.0</td>\n",
       "      <td>621.0</td>\n",
       "      <td>67.0</td>\n",
       "      <td>440.0</td>\n",
       "      <td>252.0</td>\n",
       "      <td>91.0</td>\n",
       "    </tr>\n",
       "    <tr>\n",
       "      <th>8cbcfed6c0090265c4d7e204585bcc34</th>\n",
       "      <td>3754.0</td>\n",
       "      <td>4367.0</td>\n",
       "      <td>617.0</td>\n",
       "      <td>958.0</td>\n",
       "      <td>633.0</td>\n",
       "      <td>76.0</td>\n",
       "      <td>1526.0</td>\n",
       "      <td>124.0</td>\n",
       "      <td>1053.0</td>\n",
       "      <td>237.0</td>\n",
       "      <td>...</td>\n",
       "      <td>63.0</td>\n",
       "      <td>49.0</td>\n",
       "      <td>543.0</td>\n",
       "      <td>25.0</td>\n",
       "      <td>3165.0</td>\n",
       "      <td>34.0</td>\n",
       "      <td>1316.0</td>\n",
       "      <td>31.0</td>\n",
       "      <td>93.0</td>\n",
       "      <td>4139.0</td>\n",
       "    </tr>\n",
       "    <tr>\n",
       "      <th>f4dcd86ee0af72bfc8e39524eb37a1a3</th>\n",
       "      <td>230.0</td>\n",
       "      <td>1541.0</td>\n",
       "      <td>177.0</td>\n",
       "      <td>181.0</td>\n",
       "      <td>830.0</td>\n",
       "      <td>2464.0</td>\n",
       "      <td>1325.0</td>\n",
       "      <td>1101.0</td>\n",
       "      <td>74.0</td>\n",
       "      <td>316.0</td>\n",
       "      <td>...</td>\n",
       "      <td>560.0</td>\n",
       "      <td>2102.0</td>\n",
       "      <td>1200.0</td>\n",
       "      <td>494.0</td>\n",
       "      <td>2835.0</td>\n",
       "      <td>349.0</td>\n",
       "      <td>811.0</td>\n",
       "      <td>457.0</td>\n",
       "      <td>845.0</td>\n",
       "      <td>1406.0</td>\n",
       "    </tr>\n",
       "    <tr>\n",
       "      <th>d07a78258b9434e3161b335e8ac98550</th>\n",
       "      <td>3994.0</td>\n",
       "      <td>27.0</td>\n",
       "      <td>10.0</td>\n",
       "      <td>0.0</td>\n",
       "      <td>9.0</td>\n",
       "      <td>0.0</td>\n",
       "      <td>780.0</td>\n",
       "      <td>19.0</td>\n",
       "      <td>372.0</td>\n",
       "      <td>8.0</td>\n",
       "      <td>...</td>\n",
       "      <td>4.0</td>\n",
       "      <td>528.0</td>\n",
       "      <td>19.0</td>\n",
       "      <td>392.0</td>\n",
       "      <td>122.0</td>\n",
       "      <td>1052.0</td>\n",
       "      <td>319.0</td>\n",
       "      <td>68.0</td>\n",
       "      <td>41.0</td>\n",
       "      <td>4042.0</td>\n",
       "    </tr>\n",
       "    <tr>\n",
       "      <th>b92c836c4467ba1258c3712857bfd431</th>\n",
       "      <td>87.0</td>\n",
       "      <td>2541.0</td>\n",
       "      <td>5863.0</td>\n",
       "      <td>1050.0</td>\n",
       "      <td>88.0</td>\n",
       "      <td>0.0</td>\n",
       "      <td>130.0</td>\n",
       "      <td>0.0</td>\n",
       "      <td>11.0</td>\n",
       "      <td>828.0</td>\n",
       "      <td>...</td>\n",
       "      <td>0.0</td>\n",
       "      <td>0.0</td>\n",
       "      <td>5.0</td>\n",
       "      <td>0.0</td>\n",
       "      <td>948.0</td>\n",
       "      <td>0.0</td>\n",
       "      <td>17.0</td>\n",
       "      <td>0.0</td>\n",
       "      <td>0.0</td>\n",
       "      <td>21.0</td>\n",
       "    </tr>\n",
       "    <tr>\n",
       "      <th>...</th>\n",
       "      <td>...</td>\n",
       "      <td>...</td>\n",
       "      <td>...</td>\n",
       "      <td>...</td>\n",
       "      <td>...</td>\n",
       "      <td>...</td>\n",
       "      <td>...</td>\n",
       "      <td>...</td>\n",
       "      <td>...</td>\n",
       "      <td>...</td>\n",
       "      <td>...</td>\n",
       "      <td>...</td>\n",
       "      <td>...</td>\n",
       "      <td>...</td>\n",
       "      <td>...</td>\n",
       "      <td>...</td>\n",
       "      <td>...</td>\n",
       "      <td>...</td>\n",
       "      <td>...</td>\n",
       "      <td>...</td>\n",
       "      <td>...</td>\n",
       "    </tr>\n",
       "    <tr>\n",
       "      <th>efe776149b8c609dcc9a5d235731819d</th>\n",
       "      <td>0.0</td>\n",
       "      <td>0.0</td>\n",
       "      <td>0.0</td>\n",
       "      <td>0.0</td>\n",
       "      <td>0.0</td>\n",
       "      <td>0.0</td>\n",
       "      <td>0.0</td>\n",
       "      <td>0.0</td>\n",
       "      <td>0.0</td>\n",
       "      <td>0.0</td>\n",
       "      <td>...</td>\n",
       "      <td>0.0</td>\n",
       "      <td>0.0</td>\n",
       "      <td>0.0</td>\n",
       "      <td>0.0</td>\n",
       "      <td>0.0</td>\n",
       "      <td>0.0</td>\n",
       "      <td>0.0</td>\n",
       "      <td>0.0</td>\n",
       "      <td>0.0</td>\n",
       "      <td>2.0</td>\n",
       "    </tr>\n",
       "    <tr>\n",
       "      <th>1b7b9ff460bbc3542e048af3dcacb2ff</th>\n",
       "      <td>0.0</td>\n",
       "      <td>0.0</td>\n",
       "      <td>0.0</td>\n",
       "      <td>0.0</td>\n",
       "      <td>0.0</td>\n",
       "      <td>0.0</td>\n",
       "      <td>0.0</td>\n",
       "      <td>0.0</td>\n",
       "      <td>0.0</td>\n",
       "      <td>0.0</td>\n",
       "      <td>...</td>\n",
       "      <td>0.0</td>\n",
       "      <td>0.0</td>\n",
       "      <td>0.0</td>\n",
       "      <td>0.0</td>\n",
       "      <td>0.0</td>\n",
       "      <td>0.0</td>\n",
       "      <td>0.0</td>\n",
       "      <td>0.0</td>\n",
       "      <td>0.0</td>\n",
       "      <td>2.0</td>\n",
       "    </tr>\n",
       "    <tr>\n",
       "      <th>ad64d045b250c8724d4953254f72684a</th>\n",
       "      <td>0.0</td>\n",
       "      <td>0.0</td>\n",
       "      <td>0.0</td>\n",
       "      <td>0.0</td>\n",
       "      <td>0.0</td>\n",
       "      <td>0.0</td>\n",
       "      <td>0.0</td>\n",
       "      <td>0.0</td>\n",
       "      <td>0.0</td>\n",
       "      <td>0.0</td>\n",
       "      <td>...</td>\n",
       "      <td>0.0</td>\n",
       "      <td>0.0</td>\n",
       "      <td>0.0</td>\n",
       "      <td>0.0</td>\n",
       "      <td>0.0</td>\n",
       "      <td>0.0</td>\n",
       "      <td>0.0</td>\n",
       "      <td>0.0</td>\n",
       "      <td>0.0</td>\n",
       "      <td>2.0</td>\n",
       "    </tr>\n",
       "    <tr>\n",
       "      <th>166c3748e5757085184b8cb6cc122dbd</th>\n",
       "      <td>0.0</td>\n",
       "      <td>0.0</td>\n",
       "      <td>0.0</td>\n",
       "      <td>0.0</td>\n",
       "      <td>0.0</td>\n",
       "      <td>0.0</td>\n",
       "      <td>0.0</td>\n",
       "      <td>0.0</td>\n",
       "      <td>0.0</td>\n",
       "      <td>0.0</td>\n",
       "      <td>...</td>\n",
       "      <td>0.0</td>\n",
       "      <td>0.0</td>\n",
       "      <td>0.0</td>\n",
       "      <td>0.0</td>\n",
       "      <td>0.0</td>\n",
       "      <td>0.0</td>\n",
       "      <td>0.0</td>\n",
       "      <td>0.0</td>\n",
       "      <td>0.0</td>\n",
       "      <td>2.0</td>\n",
       "    </tr>\n",
       "    <tr>\n",
       "      <th>a31915049f522141d52fc1e66975adc2</th>\n",
       "      <td>0.0</td>\n",
       "      <td>0.0</td>\n",
       "      <td>0.0</td>\n",
       "      <td>0.0</td>\n",
       "      <td>0.0</td>\n",
       "      <td>0.0</td>\n",
       "      <td>0.0</td>\n",
       "      <td>0.0</td>\n",
       "      <td>0.0</td>\n",
       "      <td>0.0</td>\n",
       "      <td>...</td>\n",
       "      <td>0.0</td>\n",
       "      <td>0.0</td>\n",
       "      <td>0.0</td>\n",
       "      <td>0.0</td>\n",
       "      <td>0.0</td>\n",
       "      <td>0.0</td>\n",
       "      <td>0.0</td>\n",
       "      <td>0.0</td>\n",
       "      <td>0.0</td>\n",
       "      <td>2.0</td>\n",
       "    </tr>\n",
       "  </tbody>\n",
       "</table>\n",
       "<p>4545 rows × 21 columns</p>\n",
       "</div>"
      ],
      "text/plain": [
       "                                      49     56B      60     62B      65B  \\\n",
       "81023771cad8637c6b48e60c873a1b47    38.0   901.0  8053.0  8373.0  10262.0   \n",
       "8cbcfed6c0090265c4d7e204585bcc34  3754.0  4367.0   617.0   958.0    633.0   \n",
       "f4dcd86ee0af72bfc8e39524eb37a1a3   230.0  1541.0   177.0   181.0    830.0   \n",
       "d07a78258b9434e3161b335e8ac98550  3994.0    27.0    10.0     0.0      9.0   \n",
       "b92c836c4467ba1258c3712857bfd431    87.0  2541.0  5863.0  1050.0     88.0   \n",
       "...                                  ...     ...     ...     ...      ...   \n",
       "efe776149b8c609dcc9a5d235731819d     0.0     0.0     0.0     0.0      0.0   \n",
       "1b7b9ff460bbc3542e048af3dcacb2ff     0.0     0.0     0.0     0.0      0.0   \n",
       "ad64d045b250c8724d4953254f72684a     0.0     0.0     0.0     0.0      0.0   \n",
       "166c3748e5757085184b8cb6cc122dbd     0.0     0.0     0.0     0.0      0.0   \n",
       "a31915049f522141d52fc1e66975adc2     0.0     0.0     0.0     0.0      0.0   \n",
       "\n",
       "                                     67C      68     68C     68F      69  ...  \\\n",
       "81023771cad8637c6b48e60c873a1b47   566.0   107.0   100.0   109.0  1862.0  ...   \n",
       "8cbcfed6c0090265c4d7e204585bcc34    76.0  1526.0   124.0  1053.0   237.0  ...   \n",
       "f4dcd86ee0af72bfc8e39524eb37a1a3  2464.0  1325.0  1101.0    74.0   316.0  ...   \n",
       "d07a78258b9434e3161b335e8ac98550     0.0   780.0    19.0   372.0     8.0  ...   \n",
       "b92c836c4467ba1258c3712857bfd431     0.0   130.0     0.0    11.0   828.0  ...   \n",
       "...                                  ...     ...     ...     ...     ...  ...   \n",
       "efe776149b8c609dcc9a5d235731819d     0.0     0.0     0.0     0.0     0.0  ...   \n",
       "1b7b9ff460bbc3542e048af3dcacb2ff     0.0     0.0     0.0     0.0     0.0  ...   \n",
       "ad64d045b250c8724d4953254f72684a     0.0     0.0     0.0     0.0     0.0  ...   \n",
       "166c3748e5757085184b8cb6cc122dbd     0.0     0.0     0.0     0.0     0.0  ...   \n",
       "a31915049f522141d52fc1e66975adc2     0.0     0.0     0.0     0.0     0.0  ...   \n",
       "\n",
       "                                    70C     70F      71     71C     73B  \\\n",
       "81023771cad8637c6b48e60c873a1b47  184.0   749.0   545.0  1176.0   525.0   \n",
       "8cbcfed6c0090265c4d7e204585bcc34   63.0    49.0   543.0    25.0  3165.0   \n",
       "f4dcd86ee0af72bfc8e39524eb37a1a3  560.0  2102.0  1200.0   494.0  2835.0   \n",
       "d07a78258b9434e3161b335e8ac98550    4.0   528.0    19.0   392.0   122.0   \n",
       "b92c836c4467ba1258c3712857bfd431    0.0     0.0     5.0     0.0   948.0   \n",
       "...                                 ...     ...     ...     ...     ...   \n",
       "efe776149b8c609dcc9a5d235731819d    0.0     0.0     0.0     0.0     0.0   \n",
       "1b7b9ff460bbc3542e048af3dcacb2ff    0.0     0.0     0.0     0.0     0.0   \n",
       "ad64d045b250c8724d4953254f72684a    0.0     0.0     0.0     0.0     0.0   \n",
       "166c3748e5757085184b8cb6cc122dbd    0.0     0.0     0.0     0.0     0.0   \n",
       "a31915049f522141d52fc1e66975adc2    0.0     0.0     0.0     0.0     0.0   \n",
       "\n",
       "                                     74C      76    76C    76F      77  \n",
       "81023771cad8637c6b48e60c873a1b47   621.0    67.0  440.0  252.0    91.0  \n",
       "8cbcfed6c0090265c4d7e204585bcc34    34.0  1316.0   31.0   93.0  4139.0  \n",
       "f4dcd86ee0af72bfc8e39524eb37a1a3   349.0   811.0  457.0  845.0  1406.0  \n",
       "d07a78258b9434e3161b335e8ac98550  1052.0   319.0   68.0   41.0  4042.0  \n",
       "b92c836c4467ba1258c3712857bfd431     0.0    17.0    0.0    0.0    21.0  \n",
       "...                                  ...     ...    ...    ...     ...  \n",
       "efe776149b8c609dcc9a5d235731819d     0.0     0.0    0.0    0.0     2.0  \n",
       "1b7b9ff460bbc3542e048af3dcacb2ff     0.0     0.0    0.0    0.0     2.0  \n",
       "ad64d045b250c8724d4953254f72684a     0.0     0.0    0.0    0.0     2.0  \n",
       "166c3748e5757085184b8cb6cc122dbd     0.0     0.0    0.0    0.0     2.0  \n",
       "a31915049f522141d52fc1e66975adc2     0.0     0.0    0.0    0.0     2.0  \n",
       "\n",
       "[4545 rows x 21 columns]"
      ]
     },
     "execution_count": 132,
     "metadata": {},
     "output_type": "execute_result"
    }
   ],
   "source": [
    "feat_tab.to_dataframe()"
   ]
  },
  {
   "cell_type": "markdown",
   "id": "c98453ad",
   "metadata": {},
   "source": [
    "# SCIKIT-BIO  DNA"
   ]
  },
  {
   "cell_type": "code",
   "execution_count": 133,
   "id": "ddac7ea5",
   "metadata": {},
   "outputs": [],
   "source": [
    "deg_seq = 'AGTCYKAAT'"
   ]
  },
  {
   "cell_type": "code",
   "execution_count": 134,
   "id": "43e2dc7d",
   "metadata": {},
   "outputs": [],
   "source": [
    "from skbio import DNA"
   ]
  },
  {
   "cell_type": "code",
   "execution_count": 135,
   "id": "f531f622",
   "metadata": {},
   "outputs": [
    {
     "data": {
      "text/plain": [
       "DNA\n",
       "-------------------------\n",
       "Stats:\n",
       "    length: 9\n",
       "    has gaps: False\n",
       "    has degenerates: True\n",
       "    has definites: True\n",
       "    GC-content: 22.22%\n",
       "-------------------------\n",
       "0 AGTCYKAAT"
      ]
     },
     "execution_count": 135,
     "metadata": {},
     "output_type": "execute_result"
    }
   ],
   "source": [
    "DNA(deg_seq)"
   ]
  },
  {
   "cell_type": "code",
   "execution_count": 136,
   "id": "f1848064",
   "metadata": {},
   "outputs": [
    {
     "data": {
      "text/plain": [
       "DNA\n",
       "-------------------------\n",
       "Stats:\n",
       "    length: 9\n",
       "    has gaps: False\n",
       "    has degenerates: True\n",
       "    has definites: True\n",
       "    GC-content: 22.22%\n",
       "-------------------------\n",
       "0 ATTMRGACT"
      ]
     },
     "execution_count": 136,
     "metadata": {},
     "output_type": "execute_result"
    }
   ],
   "source": [
    "DNA(deg_seq).reverse_complement()"
   ]
  },
  {
   "cell_type": "code",
   "execution_count": 137,
   "id": "2bfe01d6",
   "metadata": {},
   "outputs": [
    {
     "data": {
      "text/plain": [
       "DNA\n",
       "-------------------------\n",
       "Stats:\n",
       "    length: 9\n",
       "    has gaps: False\n",
       "    has degenerates: True\n",
       "    has definites: True\n",
       "    GC-content: 22.22%\n",
       "-------------------------\n",
       "0 TCAGRMTTA"
      ]
     },
     "execution_count": 137,
     "metadata": {},
     "output_type": "execute_result"
    }
   ],
   "source": [
    "DNA(deg_seq).complement()"
   ]
  },
  {
   "cell_type": "code",
   "execution_count": 138,
   "id": "d6f27bdc",
   "metadata": {},
   "outputs": [
    {
     "data": {
      "text/plain": [
       "array([False, False, False, False,  True,  True, False, False, False])"
      ]
     },
     "execution_count": 138,
     "metadata": {},
     "output_type": "execute_result"
    }
   ],
   "source": [
    "DNA(deg_seq).degenerates()"
   ]
  },
  {
   "cell_type": "code",
   "execution_count": 139,
   "id": "a2d0ef49",
   "metadata": {},
   "outputs": [
    {
     "name": "stdout",
     "output_type": "stream",
     "text": [
      "AGTCTTAAT\n",
      "AGTCTGAAT\n",
      "AGTCCTAAT\n",
      "AGTCCGAAT\n"
     ]
    }
   ],
   "source": [
    "for d in DNA(deg_seq).expand_degenerates():\n",
    "    print(d)"
   ]
  },
  {
   "cell_type": "code",
   "execution_count": 140,
   "id": "101e3acf",
   "metadata": {},
   "outputs": [
    {
     "name": "stdout",
     "output_type": "stream",
     "text": [
      "AGUCUUAAU\n",
      "AGUCUGAAU\n",
      "AGUCCUAAU\n",
      "AGUCCGAAU\n"
     ]
    }
   ],
   "source": [
    "for d in DNA(deg_seq).expand_degenerates():\n",
    "    print(d.transcribe())"
   ]
  },
  {
   "cell_type": "code",
   "execution_count": 141,
   "id": "ea369aaa",
   "metadata": {},
   "outputs": [
    {
     "name": "stdout",
     "output_type": "stream",
     "text": [
      "SLN\n",
      "SLN\n",
      "SPN\n",
      "SPN\n"
     ]
    }
   ],
   "source": [
    "for d in DNA(deg_seq).expand_degenerates():\n",
    "    print(d.translate())"
   ]
  },
  {
   "cell_type": "markdown",
   "id": "09624cd4",
   "metadata": {},
   "source": [
    "# Metabarcoding Analysis"
   ]
  },
  {
   "cell_type": "markdown",
   "id": "f7e036ed",
   "metadata": {},
   "source": [
    "We are conducting a marker-gene analysis using the 16S rRNA gene sequence as marker for the investigation of prokaryotic community in the ocean."
   ]
  },
  {
   "cell_type": "markdown",
   "id": "0eba081f",
   "metadata": {},
   "source": [
    " ### Importing libraries"
   ]
  },
  {
   "cell_type": "code",
   "execution_count": 142,
   "id": "2dbc3fde",
   "metadata": {},
   "outputs": [],
   "source": [
    "import pandas as pd  #data analysis\n",
    "import numpy as np  #data analysis\n",
    "import matplotlib.pyplot as plt  #data visualization\n",
    "import seaborn as sns  #data visualization"
   ]
  },
  {
   "cell_type": "markdown",
   "id": "9828edbb",
   "metadata": {},
   "source": [
    "## Importing FASTA"
   ]
  },
  {
   "cell_type": "markdown",
   "id": "ba2168a4",
   "metadata": {},
   "source": [
    "### Basic Statistic"
   ]
  },
  {
   "cell_type": "markdown",
   "id": "3dbe5ef0",
   "metadata": {},
   "source": [
    "Check that the sequences are correct"
   ]
  },
  {
   "cell_type": "code",
   "execution_count": 143,
   "id": "c49c556e",
   "metadata": {},
   "outputs": [],
   "source": [
    "from Bio import SeqIO"
   ]
  },
  {
   "cell_type": "code",
   "execution_count": 144,
   "id": "8b8fd96d",
   "metadata": {},
   "outputs": [],
   "source": [
    "file = pd.DataFrame({'sequence':{rec.id:str(rec.seq) for rec in SeqIO.parse('dna-sequences.fasta','fasta')}})"
   ]
  },
  {
   "cell_type": "code",
   "execution_count": 145,
   "id": "674b1568",
   "metadata": {},
   "outputs": [
    {
     "data": {
      "text/html": [
       "<div>\n",
       "<style scoped>\n",
       "    .dataframe tbody tr th:only-of-type {\n",
       "        vertical-align: middle;\n",
       "    }\n",
       "\n",
       "    .dataframe tbody tr th {\n",
       "        vertical-align: top;\n",
       "    }\n",
       "\n",
       "    .dataframe thead th {\n",
       "        text-align: right;\n",
       "    }\n",
       "</style>\n",
       "<table border=\"1\" class=\"dataframe\">\n",
       "  <thead>\n",
       "    <tr style=\"text-align: right;\">\n",
       "      <th></th>\n",
       "      <th>sequence</th>\n",
       "    </tr>\n",
       "  </thead>\n",
       "  <tbody>\n",
       "    <tr>\n",
       "      <th>000e74b14c8f0c22656b347e146b0936</th>\n",
       "      <td>GATGAACGCTGGCGGCGTGCTTAACACATGCAAGTCGAACGGGAAT...</td>\n",
       "    </tr>\n",
       "    <tr>\n",
       "      <th>0017fe9d68d9cc01e25ba7bcfd6012a0</th>\n",
       "      <td>AATGAACGTTGGCGGCGTGGATTAGGCATGCAAGTCGAGCGAGAAG...</td>\n",
       "    </tr>\n",
       "    <tr>\n",
       "      <th>0031d1b9ef6e023e9f4b3ff30345f581</th>\n",
       "      <td>AACGTACGCTGGCGGCACGCCTAACACATGCAAGTCGAACGGAGTA...</td>\n",
       "    </tr>\n",
       "    <tr>\n",
       "      <th>0034ee2d7d3cc684d77937de0fce926d</th>\n",
       "      <td>AATGAACGTTAGCGGCGTGGATTAGGCATGCAAGTCGAGCGAGAAG...</td>\n",
       "    </tr>\n",
       "    <tr>\n",
       "      <th>00472373791cfe3f6444b405264fb560</th>\n",
       "      <td>AATGAACGCTGGCGGCGTGGATAAGACATGCAAGTCGAACGAGGAA...</td>\n",
       "    </tr>\n",
       "    <tr>\n",
       "      <th>...</th>\n",
       "      <td>...</td>\n",
       "    </tr>\n",
       "    <tr>\n",
       "      <th>ff8fefa5b3b8a76363210909884c05fd</th>\n",
       "      <td>AACGAACGCTGGCGGCAGGCCTAACACATGCAAGTCGAGCGAGACC...</td>\n",
       "    </tr>\n",
       "    <tr>\n",
       "      <th>ff9b9d9ca8cb02ff816778003d017d49</th>\n",
       "      <td>ATTGAACGCTGGCGGCATGCTTAACACATGCAAGTCGAACGGCAGC...</td>\n",
       "    </tr>\n",
       "    <tr>\n",
       "      <th>ffb25f3933ef1348e0dcf82e979883a7</th>\n",
       "      <td>AACGAACGCTGGCGGCACGCCTAACACATGCAAGTCGAGCGCTCAC...</td>\n",
       "    </tr>\n",
       "    <tr>\n",
       "      <th>ffcfce4f0477e690b5f33866db20e1e7</th>\n",
       "      <td>GATGAACGCTGGCGGCGTGCTTAACACATGCAAGTCGAACGAAGTC...</td>\n",
       "    </tr>\n",
       "    <tr>\n",
       "      <th>ffd25318bec5daecbff8312f29531b8b</th>\n",
       "      <td>AATGAACGTTGGCGGCGTGGATTAGGCATGCAAGTCGAGCGAGAAT...</td>\n",
       "    </tr>\n",
       "  </tbody>\n",
       "</table>\n",
       "<p>4545 rows × 1 columns</p>\n",
       "</div>"
      ],
      "text/plain": [
       "                                                                           sequence\n",
       "000e74b14c8f0c22656b347e146b0936  GATGAACGCTGGCGGCGTGCTTAACACATGCAAGTCGAACGGGAAT...\n",
       "0017fe9d68d9cc01e25ba7bcfd6012a0  AATGAACGTTGGCGGCGTGGATTAGGCATGCAAGTCGAGCGAGAAG...\n",
       "0031d1b9ef6e023e9f4b3ff30345f581  AACGTACGCTGGCGGCACGCCTAACACATGCAAGTCGAACGGAGTA...\n",
       "0034ee2d7d3cc684d77937de0fce926d  AATGAACGTTAGCGGCGTGGATTAGGCATGCAAGTCGAGCGAGAAG...\n",
       "00472373791cfe3f6444b405264fb560  AATGAACGCTGGCGGCGTGGATAAGACATGCAAGTCGAACGAGGAA...\n",
       "...                                                                             ...\n",
       "ff8fefa5b3b8a76363210909884c05fd  AACGAACGCTGGCGGCAGGCCTAACACATGCAAGTCGAGCGAGACC...\n",
       "ff9b9d9ca8cb02ff816778003d017d49  ATTGAACGCTGGCGGCATGCTTAACACATGCAAGTCGAACGGCAGC...\n",
       "ffb25f3933ef1348e0dcf82e979883a7  AACGAACGCTGGCGGCACGCCTAACACATGCAAGTCGAGCGCTCAC...\n",
       "ffcfce4f0477e690b5f33866db20e1e7  GATGAACGCTGGCGGCGTGCTTAACACATGCAAGTCGAACGAAGTC...\n",
       "ffd25318bec5daecbff8312f29531b8b  AATGAACGTTGGCGGCGTGGATTAGGCATGCAAGTCGAGCGAGAAT...\n",
       "\n",
       "[4545 rows x 1 columns]"
      ]
     },
     "execution_count": 145,
     "metadata": {},
     "output_type": "execute_result"
    }
   ],
   "source": [
    "file"
   ]
  },
  {
   "cell_type": "code",
   "execution_count": 146,
   "id": "81a09719",
   "metadata": {},
   "outputs": [
    {
     "data": {
      "text/plain": [
       "count    4545.000000\n",
       "mean     1436.403520\n",
       "std        31.887304\n",
       "min      1040.000000\n",
       "25%      1407.000000\n",
       "50%      1444.000000\n",
       "75%      1458.000000\n",
       "max      1588.000000\n",
       "Name: sequence, dtype: float64"
      ]
     },
     "execution_count": 146,
     "metadata": {},
     "output_type": "execute_result"
    }
   ],
   "source": [
    "file['sequence'].apply(len).describe()"
   ]
  },
  {
   "cell_type": "code",
   "execution_count": 147,
   "id": "45c78e21",
   "metadata": {},
   "outputs": [],
   "source": [
    "from biom import load_table\n",
    "pacbio_feat_tab = load_table('feature-table.biom').to_dataframe()\n",
    "pacbio_rel_ab = (pacbio_feat_tab / pacbio_feat_tab.sum()) * 100"
   ]
  },
  {
   "cell_type": "code",
   "execution_count": 148,
   "id": "32585da6",
   "metadata": {},
   "outputs": [
    {
     "data": {
      "text/html": [
       "<div>\n",
       "<style scoped>\n",
       "    .dataframe tbody tr th:only-of-type {\n",
       "        vertical-align: middle;\n",
       "    }\n",
       "\n",
       "    .dataframe tbody tr th {\n",
       "        vertical-align: top;\n",
       "    }\n",
       "\n",
       "    .dataframe thead th {\n",
       "        text-align: right;\n",
       "    }\n",
       "</style>\n",
       "<table border=\"1\" class=\"dataframe\">\n",
       "  <thead>\n",
       "    <tr style=\"text-align: right;\">\n",
       "      <th></th>\n",
       "      <th>49</th>\n",
       "      <th>56B</th>\n",
       "      <th>60</th>\n",
       "      <th>62B</th>\n",
       "      <th>65B</th>\n",
       "      <th>67C</th>\n",
       "      <th>68</th>\n",
       "      <th>68C</th>\n",
       "      <th>68F</th>\n",
       "      <th>69</th>\n",
       "      <th>...</th>\n",
       "      <th>70C</th>\n",
       "      <th>70F</th>\n",
       "      <th>71</th>\n",
       "      <th>71C</th>\n",
       "      <th>73B</th>\n",
       "      <th>74C</th>\n",
       "      <th>76</th>\n",
       "      <th>76C</th>\n",
       "      <th>76F</th>\n",
       "      <th>77</th>\n",
       "    </tr>\n",
       "  </thead>\n",
       "  <tbody>\n",
       "    <tr>\n",
       "      <th>81023771cad8637c6b48e60c873a1b47</th>\n",
       "      <td>38.0</td>\n",
       "      <td>901.0</td>\n",
       "      <td>8053.0</td>\n",
       "      <td>8373.0</td>\n",
       "      <td>10262.0</td>\n",
       "      <td>566.0</td>\n",
       "      <td>107.0</td>\n",
       "      <td>100.0</td>\n",
       "      <td>109.0</td>\n",
       "      <td>1862.0</td>\n",
       "      <td>...</td>\n",
       "      <td>184.0</td>\n",
       "      <td>749.0</td>\n",
       "      <td>545.0</td>\n",
       "      <td>1176.0</td>\n",
       "      <td>525.0</td>\n",
       "      <td>621.0</td>\n",
       "      <td>67.0</td>\n",
       "      <td>440.0</td>\n",
       "      <td>252.0</td>\n",
       "      <td>91.0</td>\n",
       "    </tr>\n",
       "    <tr>\n",
       "      <th>8cbcfed6c0090265c4d7e204585bcc34</th>\n",
       "      <td>3754.0</td>\n",
       "      <td>4367.0</td>\n",
       "      <td>617.0</td>\n",
       "      <td>958.0</td>\n",
       "      <td>633.0</td>\n",
       "      <td>76.0</td>\n",
       "      <td>1526.0</td>\n",
       "      <td>124.0</td>\n",
       "      <td>1053.0</td>\n",
       "      <td>237.0</td>\n",
       "      <td>...</td>\n",
       "      <td>63.0</td>\n",
       "      <td>49.0</td>\n",
       "      <td>543.0</td>\n",
       "      <td>25.0</td>\n",
       "      <td>3165.0</td>\n",
       "      <td>34.0</td>\n",
       "      <td>1316.0</td>\n",
       "      <td>31.0</td>\n",
       "      <td>93.0</td>\n",
       "      <td>4139.0</td>\n",
       "    </tr>\n",
       "    <tr>\n",
       "      <th>f4dcd86ee0af72bfc8e39524eb37a1a3</th>\n",
       "      <td>230.0</td>\n",
       "      <td>1541.0</td>\n",
       "      <td>177.0</td>\n",
       "      <td>181.0</td>\n",
       "      <td>830.0</td>\n",
       "      <td>2464.0</td>\n",
       "      <td>1325.0</td>\n",
       "      <td>1101.0</td>\n",
       "      <td>74.0</td>\n",
       "      <td>316.0</td>\n",
       "      <td>...</td>\n",
       "      <td>560.0</td>\n",
       "      <td>2102.0</td>\n",
       "      <td>1200.0</td>\n",
       "      <td>494.0</td>\n",
       "      <td>2835.0</td>\n",
       "      <td>349.0</td>\n",
       "      <td>811.0</td>\n",
       "      <td>457.0</td>\n",
       "      <td>845.0</td>\n",
       "      <td>1406.0</td>\n",
       "    </tr>\n",
       "    <tr>\n",
       "      <th>d07a78258b9434e3161b335e8ac98550</th>\n",
       "      <td>3994.0</td>\n",
       "      <td>27.0</td>\n",
       "      <td>10.0</td>\n",
       "      <td>0.0</td>\n",
       "      <td>9.0</td>\n",
       "      <td>0.0</td>\n",
       "      <td>780.0</td>\n",
       "      <td>19.0</td>\n",
       "      <td>372.0</td>\n",
       "      <td>8.0</td>\n",
       "      <td>...</td>\n",
       "      <td>4.0</td>\n",
       "      <td>528.0</td>\n",
       "      <td>19.0</td>\n",
       "      <td>392.0</td>\n",
       "      <td>122.0</td>\n",
       "      <td>1052.0</td>\n",
       "      <td>319.0</td>\n",
       "      <td>68.0</td>\n",
       "      <td>41.0</td>\n",
       "      <td>4042.0</td>\n",
       "    </tr>\n",
       "    <tr>\n",
       "      <th>b92c836c4467ba1258c3712857bfd431</th>\n",
       "      <td>87.0</td>\n",
       "      <td>2541.0</td>\n",
       "      <td>5863.0</td>\n",
       "      <td>1050.0</td>\n",
       "      <td>88.0</td>\n",
       "      <td>0.0</td>\n",
       "      <td>130.0</td>\n",
       "      <td>0.0</td>\n",
       "      <td>11.0</td>\n",
       "      <td>828.0</td>\n",
       "      <td>...</td>\n",
       "      <td>0.0</td>\n",
       "      <td>0.0</td>\n",
       "      <td>5.0</td>\n",
       "      <td>0.0</td>\n",
       "      <td>948.0</td>\n",
       "      <td>0.0</td>\n",
       "      <td>17.0</td>\n",
       "      <td>0.0</td>\n",
       "      <td>0.0</td>\n",
       "      <td>21.0</td>\n",
       "    </tr>\n",
       "    <tr>\n",
       "      <th>...</th>\n",
       "      <td>...</td>\n",
       "      <td>...</td>\n",
       "      <td>...</td>\n",
       "      <td>...</td>\n",
       "      <td>...</td>\n",
       "      <td>...</td>\n",
       "      <td>...</td>\n",
       "      <td>...</td>\n",
       "      <td>...</td>\n",
       "      <td>...</td>\n",
       "      <td>...</td>\n",
       "      <td>...</td>\n",
       "      <td>...</td>\n",
       "      <td>...</td>\n",
       "      <td>...</td>\n",
       "      <td>...</td>\n",
       "      <td>...</td>\n",
       "      <td>...</td>\n",
       "      <td>...</td>\n",
       "      <td>...</td>\n",
       "      <td>...</td>\n",
       "    </tr>\n",
       "    <tr>\n",
       "      <th>efe776149b8c609dcc9a5d235731819d</th>\n",
       "      <td>0.0</td>\n",
       "      <td>0.0</td>\n",
       "      <td>0.0</td>\n",
       "      <td>0.0</td>\n",
       "      <td>0.0</td>\n",
       "      <td>0.0</td>\n",
       "      <td>0.0</td>\n",
       "      <td>0.0</td>\n",
       "      <td>0.0</td>\n",
       "      <td>0.0</td>\n",
       "      <td>...</td>\n",
       "      <td>0.0</td>\n",
       "      <td>0.0</td>\n",
       "      <td>0.0</td>\n",
       "      <td>0.0</td>\n",
       "      <td>0.0</td>\n",
       "      <td>0.0</td>\n",
       "      <td>0.0</td>\n",
       "      <td>0.0</td>\n",
       "      <td>0.0</td>\n",
       "      <td>2.0</td>\n",
       "    </tr>\n",
       "    <tr>\n",
       "      <th>1b7b9ff460bbc3542e048af3dcacb2ff</th>\n",
       "      <td>0.0</td>\n",
       "      <td>0.0</td>\n",
       "      <td>0.0</td>\n",
       "      <td>0.0</td>\n",
       "      <td>0.0</td>\n",
       "      <td>0.0</td>\n",
       "      <td>0.0</td>\n",
       "      <td>0.0</td>\n",
       "      <td>0.0</td>\n",
       "      <td>0.0</td>\n",
       "      <td>...</td>\n",
       "      <td>0.0</td>\n",
       "      <td>0.0</td>\n",
       "      <td>0.0</td>\n",
       "      <td>0.0</td>\n",
       "      <td>0.0</td>\n",
       "      <td>0.0</td>\n",
       "      <td>0.0</td>\n",
       "      <td>0.0</td>\n",
       "      <td>0.0</td>\n",
       "      <td>2.0</td>\n",
       "    </tr>\n",
       "    <tr>\n",
       "      <th>ad64d045b250c8724d4953254f72684a</th>\n",
       "      <td>0.0</td>\n",
       "      <td>0.0</td>\n",
       "      <td>0.0</td>\n",
       "      <td>0.0</td>\n",
       "      <td>0.0</td>\n",
       "      <td>0.0</td>\n",
       "      <td>0.0</td>\n",
       "      <td>0.0</td>\n",
       "      <td>0.0</td>\n",
       "      <td>0.0</td>\n",
       "      <td>...</td>\n",
       "      <td>0.0</td>\n",
       "      <td>0.0</td>\n",
       "      <td>0.0</td>\n",
       "      <td>0.0</td>\n",
       "      <td>0.0</td>\n",
       "      <td>0.0</td>\n",
       "      <td>0.0</td>\n",
       "      <td>0.0</td>\n",
       "      <td>0.0</td>\n",
       "      <td>2.0</td>\n",
       "    </tr>\n",
       "    <tr>\n",
       "      <th>166c3748e5757085184b8cb6cc122dbd</th>\n",
       "      <td>0.0</td>\n",
       "      <td>0.0</td>\n",
       "      <td>0.0</td>\n",
       "      <td>0.0</td>\n",
       "      <td>0.0</td>\n",
       "      <td>0.0</td>\n",
       "      <td>0.0</td>\n",
       "      <td>0.0</td>\n",
       "      <td>0.0</td>\n",
       "      <td>0.0</td>\n",
       "      <td>...</td>\n",
       "      <td>0.0</td>\n",
       "      <td>0.0</td>\n",
       "      <td>0.0</td>\n",
       "      <td>0.0</td>\n",
       "      <td>0.0</td>\n",
       "      <td>0.0</td>\n",
       "      <td>0.0</td>\n",
       "      <td>0.0</td>\n",
       "      <td>0.0</td>\n",
       "      <td>2.0</td>\n",
       "    </tr>\n",
       "    <tr>\n",
       "      <th>a31915049f522141d52fc1e66975adc2</th>\n",
       "      <td>0.0</td>\n",
       "      <td>0.0</td>\n",
       "      <td>0.0</td>\n",
       "      <td>0.0</td>\n",
       "      <td>0.0</td>\n",
       "      <td>0.0</td>\n",
       "      <td>0.0</td>\n",
       "      <td>0.0</td>\n",
       "      <td>0.0</td>\n",
       "      <td>0.0</td>\n",
       "      <td>...</td>\n",
       "      <td>0.0</td>\n",
       "      <td>0.0</td>\n",
       "      <td>0.0</td>\n",
       "      <td>0.0</td>\n",
       "      <td>0.0</td>\n",
       "      <td>0.0</td>\n",
       "      <td>0.0</td>\n",
       "      <td>0.0</td>\n",
       "      <td>0.0</td>\n",
       "      <td>2.0</td>\n",
       "    </tr>\n",
       "  </tbody>\n",
       "</table>\n",
       "<p>4545 rows × 21 columns</p>\n",
       "</div>"
      ],
      "text/plain": [
       "                                      49     56B      60     62B      65B  \\\n",
       "81023771cad8637c6b48e60c873a1b47    38.0   901.0  8053.0  8373.0  10262.0   \n",
       "8cbcfed6c0090265c4d7e204585bcc34  3754.0  4367.0   617.0   958.0    633.0   \n",
       "f4dcd86ee0af72bfc8e39524eb37a1a3   230.0  1541.0   177.0   181.0    830.0   \n",
       "d07a78258b9434e3161b335e8ac98550  3994.0    27.0    10.0     0.0      9.0   \n",
       "b92c836c4467ba1258c3712857bfd431    87.0  2541.0  5863.0  1050.0     88.0   \n",
       "...                                  ...     ...     ...     ...      ...   \n",
       "efe776149b8c609dcc9a5d235731819d     0.0     0.0     0.0     0.0      0.0   \n",
       "1b7b9ff460bbc3542e048af3dcacb2ff     0.0     0.0     0.0     0.0      0.0   \n",
       "ad64d045b250c8724d4953254f72684a     0.0     0.0     0.0     0.0      0.0   \n",
       "166c3748e5757085184b8cb6cc122dbd     0.0     0.0     0.0     0.0      0.0   \n",
       "a31915049f522141d52fc1e66975adc2     0.0     0.0     0.0     0.0      0.0   \n",
       "\n",
       "                                     67C      68     68C     68F      69  ...  \\\n",
       "81023771cad8637c6b48e60c873a1b47   566.0   107.0   100.0   109.0  1862.0  ...   \n",
       "8cbcfed6c0090265c4d7e204585bcc34    76.0  1526.0   124.0  1053.0   237.0  ...   \n",
       "f4dcd86ee0af72bfc8e39524eb37a1a3  2464.0  1325.0  1101.0    74.0   316.0  ...   \n",
       "d07a78258b9434e3161b335e8ac98550     0.0   780.0    19.0   372.0     8.0  ...   \n",
       "b92c836c4467ba1258c3712857bfd431     0.0   130.0     0.0    11.0   828.0  ...   \n",
       "...                                  ...     ...     ...     ...     ...  ...   \n",
       "efe776149b8c609dcc9a5d235731819d     0.0     0.0     0.0     0.0     0.0  ...   \n",
       "1b7b9ff460bbc3542e048af3dcacb2ff     0.0     0.0     0.0     0.0     0.0  ...   \n",
       "ad64d045b250c8724d4953254f72684a     0.0     0.0     0.0     0.0     0.0  ...   \n",
       "166c3748e5757085184b8cb6cc122dbd     0.0     0.0     0.0     0.0     0.0  ...   \n",
       "a31915049f522141d52fc1e66975adc2     0.0     0.0     0.0     0.0     0.0  ...   \n",
       "\n",
       "                                    70C     70F      71     71C     73B  \\\n",
       "81023771cad8637c6b48e60c873a1b47  184.0   749.0   545.0  1176.0   525.0   \n",
       "8cbcfed6c0090265c4d7e204585bcc34   63.0    49.0   543.0    25.0  3165.0   \n",
       "f4dcd86ee0af72bfc8e39524eb37a1a3  560.0  2102.0  1200.0   494.0  2835.0   \n",
       "d07a78258b9434e3161b335e8ac98550    4.0   528.0    19.0   392.0   122.0   \n",
       "b92c836c4467ba1258c3712857bfd431    0.0     0.0     5.0     0.0   948.0   \n",
       "...                                 ...     ...     ...     ...     ...   \n",
       "efe776149b8c609dcc9a5d235731819d    0.0     0.0     0.0     0.0     0.0   \n",
       "1b7b9ff460bbc3542e048af3dcacb2ff    0.0     0.0     0.0     0.0     0.0   \n",
       "ad64d045b250c8724d4953254f72684a    0.0     0.0     0.0     0.0     0.0   \n",
       "166c3748e5757085184b8cb6cc122dbd    0.0     0.0     0.0     0.0     0.0   \n",
       "a31915049f522141d52fc1e66975adc2    0.0     0.0     0.0     0.0     0.0   \n",
       "\n",
       "                                     74C      76    76C    76F      77  \n",
       "81023771cad8637c6b48e60c873a1b47   621.0    67.0  440.0  252.0    91.0  \n",
       "8cbcfed6c0090265c4d7e204585bcc34    34.0  1316.0   31.0   93.0  4139.0  \n",
       "f4dcd86ee0af72bfc8e39524eb37a1a3   349.0   811.0  457.0  845.0  1406.0  \n",
       "d07a78258b9434e3161b335e8ac98550  1052.0   319.0   68.0   41.0  4042.0  \n",
       "b92c836c4467ba1258c3712857bfd431     0.0    17.0    0.0    0.0    21.0  \n",
       "...                                  ...     ...    ...    ...     ...  \n",
       "efe776149b8c609dcc9a5d235731819d     0.0     0.0    0.0    0.0     2.0  \n",
       "1b7b9ff460bbc3542e048af3dcacb2ff     0.0     0.0    0.0    0.0     2.0  \n",
       "ad64d045b250c8724d4953254f72684a     0.0     0.0    0.0    0.0     2.0  \n",
       "166c3748e5757085184b8cb6cc122dbd     0.0     0.0    0.0    0.0     2.0  \n",
       "a31915049f522141d52fc1e66975adc2     0.0     0.0    0.0    0.0     2.0  \n",
       "\n",
       "[4545 rows x 21 columns]"
      ]
     },
     "execution_count": 148,
     "metadata": {},
     "output_type": "execute_result"
    }
   ],
   "source": [
    "pacbio_feat_tab"
   ]
  },
  {
   "cell_type": "code",
   "execution_count": 149,
   "id": "2810f415",
   "metadata": {},
   "outputs": [
    {
     "data": {
      "text/html": [
       "<div>\n",
       "<style scoped>\n",
       "    .dataframe tbody tr th:only-of-type {\n",
       "        vertical-align: middle;\n",
       "    }\n",
       "\n",
       "    .dataframe tbody tr th {\n",
       "        vertical-align: top;\n",
       "    }\n",
       "\n",
       "    .dataframe thead th {\n",
       "        text-align: right;\n",
       "    }\n",
       "</style>\n",
       "<table border=\"1\" class=\"dataframe\">\n",
       "  <thead>\n",
       "    <tr style=\"text-align: right;\">\n",
       "      <th></th>\n",
       "      <th>49</th>\n",
       "      <th>56B</th>\n",
       "      <th>60</th>\n",
       "      <th>62B</th>\n",
       "      <th>65B</th>\n",
       "      <th>67C</th>\n",
       "      <th>68</th>\n",
       "      <th>68C</th>\n",
       "      <th>68F</th>\n",
       "      <th>69</th>\n",
       "      <th>...</th>\n",
       "      <th>70C</th>\n",
       "      <th>70F</th>\n",
       "      <th>71</th>\n",
       "      <th>71C</th>\n",
       "      <th>73B</th>\n",
       "      <th>74C</th>\n",
       "      <th>76</th>\n",
       "      <th>76C</th>\n",
       "      <th>76F</th>\n",
       "      <th>77</th>\n",
       "    </tr>\n",
       "  </thead>\n",
       "  <tbody>\n",
       "    <tr>\n",
       "      <th>81023771cad8637c6b48e60c873a1b47</th>\n",
       "      <td>0.192259</td>\n",
       "      <td>2.936288</td>\n",
       "      <td>26.521539</td>\n",
       "      <td>27.630928</td>\n",
       "      <td>32.369176</td>\n",
       "      <td>2.068260</td>\n",
       "      <td>0.710539</td>\n",
       "      <td>0.303536</td>\n",
       "      <td>0.476066</td>\n",
       "      <td>8.233109</td>\n",
       "      <td>...</td>\n",
       "      <td>1.433245</td>\n",
       "      <td>2.636674</td>\n",
       "      <td>2.820327</td>\n",
       "      <td>4.417731</td>\n",
       "      <td>2.287881</td>\n",
       "      <td>2.370048</td>\n",
       "      <td>0.298016</td>\n",
       "      <td>2.731732</td>\n",
       "      <td>0.896319</td>\n",
       "      <td>0.412961</td>\n",
       "    </tr>\n",
       "    <tr>\n",
       "      <th>8cbcfed6c0090265c4d7e204585bcc34</th>\n",
       "      <td>18.993170</td>\n",
       "      <td>14.231709</td>\n",
       "      <td>2.032012</td>\n",
       "      <td>3.161403</td>\n",
       "      <td>1.996656</td>\n",
       "      <td>0.277717</td>\n",
       "      <td>10.133475</td>\n",
       "      <td>0.376385</td>\n",
       "      <td>4.599057</td>\n",
       "      <td>1.047931</td>\n",
       "      <td>...</td>\n",
       "      <td>0.490731</td>\n",
       "      <td>0.172493</td>\n",
       "      <td>2.809977</td>\n",
       "      <td>0.093914</td>\n",
       "      <td>13.792653</td>\n",
       "      <td>0.129761</td>\n",
       "      <td>5.853572</td>\n",
       "      <td>0.192463</td>\n",
       "      <td>0.330784</td>\n",
       "      <td>18.782901</td>\n",
       "    </tr>\n",
       "    <tr>\n",
       "      <th>f4dcd86ee0af72bfc8e39524eb37a1a3</th>\n",
       "      <td>1.163673</td>\n",
       "      <td>5.021998</td>\n",
       "      <td>0.582927</td>\n",
       "      <td>0.597301</td>\n",
       "      <td>2.618049</td>\n",
       "      <td>9.003873</td>\n",
       "      <td>8.798725</td>\n",
       "      <td>3.341934</td>\n",
       "      <td>0.323201</td>\n",
       "      <td>1.397241</td>\n",
       "      <td>...</td>\n",
       "      <td>4.362050</td>\n",
       "      <td>7.399585</td>\n",
       "      <td>6.209894</td>\n",
       "      <td>1.855748</td>\n",
       "      <td>12.354556</td>\n",
       "      <td>1.331959</td>\n",
       "      <td>3.607330</td>\n",
       "      <td>2.837276</td>\n",
       "      <td>3.005513</td>\n",
       "      <td>6.380468</td>\n",
       "    </tr>\n",
       "    <tr>\n",
       "      <th>d07a78258b9434e3161b335e8ac98550</th>\n",
       "      <td>20.207437</td>\n",
       "      <td>0.087991</td>\n",
       "      <td>0.032934</td>\n",
       "      <td>0.000000</td>\n",
       "      <td>0.028388</td>\n",
       "      <td>0.000000</td>\n",
       "      <td>5.179627</td>\n",
       "      <td>0.057672</td>\n",
       "      <td>1.624738</td>\n",
       "      <td>0.035373</td>\n",
       "      <td>...</td>\n",
       "      <td>0.031158</td>\n",
       "      <td>1.858697</td>\n",
       "      <td>0.098323</td>\n",
       "      <td>1.472577</td>\n",
       "      <td>0.531660</td>\n",
       "      <td>4.014961</td>\n",
       "      <td>1.418913</td>\n",
       "      <td>0.422177</td>\n",
       "      <td>0.145830</td>\n",
       "      <td>18.342712</td>\n",
       "    </tr>\n",
       "    <tr>\n",
       "      <th>b92c836c4467ba1258c3712857bfd431</th>\n",
       "      <td>0.440172</td>\n",
       "      <td>8.280919</td>\n",
       "      <td>19.309050</td>\n",
       "      <td>3.465003</td>\n",
       "      <td>0.277576</td>\n",
       "      <td>0.000000</td>\n",
       "      <td>0.863271</td>\n",
       "      <td>0.000000</td>\n",
       "      <td>0.048043</td>\n",
       "      <td>3.661125</td>\n",
       "      <td>...</td>\n",
       "      <td>0.000000</td>\n",
       "      <td>0.000000</td>\n",
       "      <td>0.025875</td>\n",
       "      <td>0.000000</td>\n",
       "      <td>4.131259</td>\n",
       "      <td>0.000000</td>\n",
       "      <td>0.075616</td>\n",
       "      <td>0.000000</td>\n",
       "      <td>0.000000</td>\n",
       "      <td>0.095299</td>\n",
       "    </tr>\n",
       "    <tr>\n",
       "      <th>...</th>\n",
       "      <td>...</td>\n",
       "      <td>...</td>\n",
       "      <td>...</td>\n",
       "      <td>...</td>\n",
       "      <td>...</td>\n",
       "      <td>...</td>\n",
       "      <td>...</td>\n",
       "      <td>...</td>\n",
       "      <td>...</td>\n",
       "      <td>...</td>\n",
       "      <td>...</td>\n",
       "      <td>...</td>\n",
       "      <td>...</td>\n",
       "      <td>...</td>\n",
       "      <td>...</td>\n",
       "      <td>...</td>\n",
       "      <td>...</td>\n",
       "      <td>...</td>\n",
       "      <td>...</td>\n",
       "      <td>...</td>\n",
       "      <td>...</td>\n",
       "    </tr>\n",
       "    <tr>\n",
       "      <th>efe776149b8c609dcc9a5d235731819d</th>\n",
       "      <td>0.000000</td>\n",
       "      <td>0.000000</td>\n",
       "      <td>0.000000</td>\n",
       "      <td>0.000000</td>\n",
       "      <td>0.000000</td>\n",
       "      <td>0.000000</td>\n",
       "      <td>0.000000</td>\n",
       "      <td>0.000000</td>\n",
       "      <td>0.000000</td>\n",
       "      <td>0.000000</td>\n",
       "      <td>...</td>\n",
       "      <td>0.000000</td>\n",
       "      <td>0.000000</td>\n",
       "      <td>0.000000</td>\n",
       "      <td>0.000000</td>\n",
       "      <td>0.000000</td>\n",
       "      <td>0.000000</td>\n",
       "      <td>0.000000</td>\n",
       "      <td>0.000000</td>\n",
       "      <td>0.000000</td>\n",
       "      <td>0.009076</td>\n",
       "    </tr>\n",
       "    <tr>\n",
       "      <th>1b7b9ff460bbc3542e048af3dcacb2ff</th>\n",
       "      <td>0.000000</td>\n",
       "      <td>0.000000</td>\n",
       "      <td>0.000000</td>\n",
       "      <td>0.000000</td>\n",
       "      <td>0.000000</td>\n",
       "      <td>0.000000</td>\n",
       "      <td>0.000000</td>\n",
       "      <td>0.000000</td>\n",
       "      <td>0.000000</td>\n",
       "      <td>0.000000</td>\n",
       "      <td>...</td>\n",
       "      <td>0.000000</td>\n",
       "      <td>0.000000</td>\n",
       "      <td>0.000000</td>\n",
       "      <td>0.000000</td>\n",
       "      <td>0.000000</td>\n",
       "      <td>0.000000</td>\n",
       "      <td>0.000000</td>\n",
       "      <td>0.000000</td>\n",
       "      <td>0.000000</td>\n",
       "      <td>0.009076</td>\n",
       "    </tr>\n",
       "    <tr>\n",
       "      <th>ad64d045b250c8724d4953254f72684a</th>\n",
       "      <td>0.000000</td>\n",
       "      <td>0.000000</td>\n",
       "      <td>0.000000</td>\n",
       "      <td>0.000000</td>\n",
       "      <td>0.000000</td>\n",
       "      <td>0.000000</td>\n",
       "      <td>0.000000</td>\n",
       "      <td>0.000000</td>\n",
       "      <td>0.000000</td>\n",
       "      <td>0.000000</td>\n",
       "      <td>...</td>\n",
       "      <td>0.000000</td>\n",
       "      <td>0.000000</td>\n",
       "      <td>0.000000</td>\n",
       "      <td>0.000000</td>\n",
       "      <td>0.000000</td>\n",
       "      <td>0.000000</td>\n",
       "      <td>0.000000</td>\n",
       "      <td>0.000000</td>\n",
       "      <td>0.000000</td>\n",
       "      <td>0.009076</td>\n",
       "    </tr>\n",
       "    <tr>\n",
       "      <th>166c3748e5757085184b8cb6cc122dbd</th>\n",
       "      <td>0.000000</td>\n",
       "      <td>0.000000</td>\n",
       "      <td>0.000000</td>\n",
       "      <td>0.000000</td>\n",
       "      <td>0.000000</td>\n",
       "      <td>0.000000</td>\n",
       "      <td>0.000000</td>\n",
       "      <td>0.000000</td>\n",
       "      <td>0.000000</td>\n",
       "      <td>0.000000</td>\n",
       "      <td>...</td>\n",
       "      <td>0.000000</td>\n",
       "      <td>0.000000</td>\n",
       "      <td>0.000000</td>\n",
       "      <td>0.000000</td>\n",
       "      <td>0.000000</td>\n",
       "      <td>0.000000</td>\n",
       "      <td>0.000000</td>\n",
       "      <td>0.000000</td>\n",
       "      <td>0.000000</td>\n",
       "      <td>0.009076</td>\n",
       "    </tr>\n",
       "    <tr>\n",
       "      <th>a31915049f522141d52fc1e66975adc2</th>\n",
       "      <td>0.000000</td>\n",
       "      <td>0.000000</td>\n",
       "      <td>0.000000</td>\n",
       "      <td>0.000000</td>\n",
       "      <td>0.000000</td>\n",
       "      <td>0.000000</td>\n",
       "      <td>0.000000</td>\n",
       "      <td>0.000000</td>\n",
       "      <td>0.000000</td>\n",
       "      <td>0.000000</td>\n",
       "      <td>...</td>\n",
       "      <td>0.000000</td>\n",
       "      <td>0.000000</td>\n",
       "      <td>0.000000</td>\n",
       "      <td>0.000000</td>\n",
       "      <td>0.000000</td>\n",
       "      <td>0.000000</td>\n",
       "      <td>0.000000</td>\n",
       "      <td>0.000000</td>\n",
       "      <td>0.000000</td>\n",
       "      <td>0.009076</td>\n",
       "    </tr>\n",
       "  </tbody>\n",
       "</table>\n",
       "<p>4545 rows × 21 columns</p>\n",
       "</div>"
      ],
      "text/plain": [
       "                                         49        56B         60        62B  \\\n",
       "81023771cad8637c6b48e60c873a1b47   0.192259   2.936288  26.521539  27.630928   \n",
       "8cbcfed6c0090265c4d7e204585bcc34  18.993170  14.231709   2.032012   3.161403   \n",
       "f4dcd86ee0af72bfc8e39524eb37a1a3   1.163673   5.021998   0.582927   0.597301   \n",
       "d07a78258b9434e3161b335e8ac98550  20.207437   0.087991   0.032934   0.000000   \n",
       "b92c836c4467ba1258c3712857bfd431   0.440172   8.280919  19.309050   3.465003   \n",
       "...                                     ...        ...        ...        ...   \n",
       "efe776149b8c609dcc9a5d235731819d   0.000000   0.000000   0.000000   0.000000   \n",
       "1b7b9ff460bbc3542e048af3dcacb2ff   0.000000   0.000000   0.000000   0.000000   \n",
       "ad64d045b250c8724d4953254f72684a   0.000000   0.000000   0.000000   0.000000   \n",
       "166c3748e5757085184b8cb6cc122dbd   0.000000   0.000000   0.000000   0.000000   \n",
       "a31915049f522141d52fc1e66975adc2   0.000000   0.000000   0.000000   0.000000   \n",
       "\n",
       "                                        65B       67C         68       68C  \\\n",
       "81023771cad8637c6b48e60c873a1b47  32.369176  2.068260   0.710539  0.303536   \n",
       "8cbcfed6c0090265c4d7e204585bcc34   1.996656  0.277717  10.133475  0.376385   \n",
       "f4dcd86ee0af72bfc8e39524eb37a1a3   2.618049  9.003873   8.798725  3.341934   \n",
       "d07a78258b9434e3161b335e8ac98550   0.028388  0.000000   5.179627  0.057672   \n",
       "b92c836c4467ba1258c3712857bfd431   0.277576  0.000000   0.863271  0.000000   \n",
       "...                                     ...       ...        ...       ...   \n",
       "efe776149b8c609dcc9a5d235731819d   0.000000  0.000000   0.000000  0.000000   \n",
       "1b7b9ff460bbc3542e048af3dcacb2ff   0.000000  0.000000   0.000000  0.000000   \n",
       "ad64d045b250c8724d4953254f72684a   0.000000  0.000000   0.000000  0.000000   \n",
       "166c3748e5757085184b8cb6cc122dbd   0.000000  0.000000   0.000000  0.000000   \n",
       "a31915049f522141d52fc1e66975adc2   0.000000  0.000000   0.000000  0.000000   \n",
       "\n",
       "                                       68F        69  ...       70C       70F  \\\n",
       "81023771cad8637c6b48e60c873a1b47  0.476066  8.233109  ...  1.433245  2.636674   \n",
       "8cbcfed6c0090265c4d7e204585bcc34  4.599057  1.047931  ...  0.490731  0.172493   \n",
       "f4dcd86ee0af72bfc8e39524eb37a1a3  0.323201  1.397241  ...  4.362050  7.399585   \n",
       "d07a78258b9434e3161b335e8ac98550  1.624738  0.035373  ...  0.031158  1.858697   \n",
       "b92c836c4467ba1258c3712857bfd431  0.048043  3.661125  ...  0.000000  0.000000   \n",
       "...                                    ...       ...  ...       ...       ...   \n",
       "efe776149b8c609dcc9a5d235731819d  0.000000  0.000000  ...  0.000000  0.000000   \n",
       "1b7b9ff460bbc3542e048af3dcacb2ff  0.000000  0.000000  ...  0.000000  0.000000   \n",
       "ad64d045b250c8724d4953254f72684a  0.000000  0.000000  ...  0.000000  0.000000   \n",
       "166c3748e5757085184b8cb6cc122dbd  0.000000  0.000000  ...  0.000000  0.000000   \n",
       "a31915049f522141d52fc1e66975adc2  0.000000  0.000000  ...  0.000000  0.000000   \n",
       "\n",
       "                                        71       71C        73B       74C  \\\n",
       "81023771cad8637c6b48e60c873a1b47  2.820327  4.417731   2.287881  2.370048   \n",
       "8cbcfed6c0090265c4d7e204585bcc34  2.809977  0.093914  13.792653  0.129761   \n",
       "f4dcd86ee0af72bfc8e39524eb37a1a3  6.209894  1.855748  12.354556  1.331959   \n",
       "d07a78258b9434e3161b335e8ac98550  0.098323  1.472577   0.531660  4.014961   \n",
       "b92c836c4467ba1258c3712857bfd431  0.025875  0.000000   4.131259  0.000000   \n",
       "...                                    ...       ...        ...       ...   \n",
       "efe776149b8c609dcc9a5d235731819d  0.000000  0.000000   0.000000  0.000000   \n",
       "1b7b9ff460bbc3542e048af3dcacb2ff  0.000000  0.000000   0.000000  0.000000   \n",
       "ad64d045b250c8724d4953254f72684a  0.000000  0.000000   0.000000  0.000000   \n",
       "166c3748e5757085184b8cb6cc122dbd  0.000000  0.000000   0.000000  0.000000   \n",
       "a31915049f522141d52fc1e66975adc2  0.000000  0.000000   0.000000  0.000000   \n",
       "\n",
       "                                        76       76C       76F         77  \n",
       "81023771cad8637c6b48e60c873a1b47  0.298016  2.731732  0.896319   0.412961  \n",
       "8cbcfed6c0090265c4d7e204585bcc34  5.853572  0.192463  0.330784  18.782901  \n",
       "f4dcd86ee0af72bfc8e39524eb37a1a3  3.607330  2.837276  3.005513   6.380468  \n",
       "d07a78258b9434e3161b335e8ac98550  1.418913  0.422177  0.145830  18.342712  \n",
       "b92c836c4467ba1258c3712857bfd431  0.075616  0.000000  0.000000   0.095299  \n",
       "...                                    ...       ...       ...        ...  \n",
       "efe776149b8c609dcc9a5d235731819d  0.000000  0.000000  0.000000   0.009076  \n",
       "1b7b9ff460bbc3542e048af3dcacb2ff  0.000000  0.000000  0.000000   0.009076  \n",
       "ad64d045b250c8724d4953254f72684a  0.000000  0.000000  0.000000   0.009076  \n",
       "166c3748e5757085184b8cb6cc122dbd  0.000000  0.000000  0.000000   0.009076  \n",
       "a31915049f522141d52fc1e66975adc2  0.000000  0.000000  0.000000   0.009076  \n",
       "\n",
       "[4545 rows x 21 columns]"
      ]
     },
     "execution_count": 149,
     "metadata": {},
     "output_type": "execute_result"
    }
   ],
   "source": [
    "pacbio_rel_ab"
   ]
  },
  {
   "cell_type": "code",
   "execution_count": 150,
   "id": "1c04b3a8",
   "metadata": {},
   "outputs": [],
   "source": [
    "rel_ab_ex = (pacbio_feat_tab.iloc[:10,:] / pacbio_feat_tab.iloc[:10,:].sum()) * 100"
   ]
  },
  {
   "cell_type": "code",
   "execution_count": 151,
   "id": "e92e18db",
   "metadata": {},
   "outputs": [
    {
     "data": {
      "image/png": "[encoded data removed]",
      "text/plain": [
       "<Figure size 432x288 with 1 Axes>"
      ]
     },
     "metadata": {
      "needs_background": "light"
     },
     "output_type": "display_data"
    }
   ],
   "source": [
    "rel_ab_ex.transpose().plot(kind='bar', \n",
    "                           stacked = True, \n",
    "                           edgecolor='black', \n",
    "                           legend = False)\n",
    "\n",
    "plt.title('microbial community composition')\n",
    "\n",
    "plt.legend([f'ASV {i}' for i in range(1,len(rel_ab_ex.columns))],\n",
    "          bbox_to_anchor = (1,1))\n",
    "\n",
    "plt.xlabel('sample')\n",
    "plt.ylabel('relative abundance')\n",
    "\n",
    "plt.show()"
   ]
  },
  {
   "cell_type": "markdown",
   "id": "c953ae1d",
   "metadata": {},
   "source": [
    "### Alpha Diversity"
   ]
  },
  {
   "cell_type": "code",
   "execution_count": 152,
   "id": "f8e6b2a0",
   "metadata": {},
   "outputs": [],
   "source": [
    "from skbio import diversity #ecology"
   ]
  },
  {
   "cell_type": "code",
   "execution_count": 153,
   "id": "19f78a2e",
   "metadata": {},
   "outputs": [],
   "source": [
    "pacbio_chao1_div = pd.DataFrame(list(diversity.alpha_diversity(counts = pacbio_rel_ab.transpose(),metric = 'chao1')),\n",
    "             columns = ['chao1'],index = pacbio_rel_ab.transpose().index)"
   ]
  },
  {
   "cell_type": "code",
   "execution_count": 154,
   "id": "d73d043b",
   "metadata": {},
   "outputs": [],
   "source": [
    "pacbio_shannon_div = pd.DataFrame(list(diversity.alpha_diversity(counts = pacbio_rel_ab.transpose(),metric = 'shannon')),\n",
    "             columns = ['shannon'],index = pacbio_rel_ab.columns)"
   ]
  },
  {
   "cell_type": "code",
   "execution_count": 155,
   "id": "50eaeefa",
   "metadata": {},
   "outputs": [],
   "source": [
    "pacbio_div_metr = pd.concat([pacbio_chao1_div,pacbio_shannon_div], axis  =1)"
   ]
  },
  {
   "cell_type": "code",
   "execution_count": 156,
   "id": "912ab13d",
   "metadata": {},
   "outputs": [
    {
     "data": {
      "text/html": [
       "<div>\n",
       "<style scoped>\n",
       "    .dataframe tbody tr th:only-of-type {\n",
       "        vertical-align: middle;\n",
       "    }\n",
       "\n",
       "    .dataframe tbody tr th {\n",
       "        vertical-align: top;\n",
       "    }\n",
       "\n",
       "    .dataframe thead th {\n",
       "        text-align: right;\n",
       "    }\n",
       "</style>\n",
       "<table border=\"1\" class=\"dataframe\">\n",
       "  <thead>\n",
       "    <tr style=\"text-align: right;\">\n",
       "      <th></th>\n",
       "      <th>chao1</th>\n",
       "      <th>shannon</th>\n",
       "    </tr>\n",
       "  </thead>\n",
       "  <tbody>\n",
       "    <tr>\n",
       "      <th>49</th>\n",
       "      <td>289.0</td>\n",
       "      <td>5.212772</td>\n",
       "    </tr>\n",
       "    <tr>\n",
       "      <th>56B</th>\n",
       "      <td>412.0</td>\n",
       "      <td>6.430819</td>\n",
       "    </tr>\n",
       "    <tr>\n",
       "      <th>60</th>\n",
       "      <td>252.0</td>\n",
       "      <td>4.699384</td>\n",
       "    </tr>\n",
       "    <tr>\n",
       "      <th>62B</th>\n",
       "      <td>462.0</td>\n",
       "      <td>5.749731</td>\n",
       "    </tr>\n",
       "    <tr>\n",
       "      <th>65B</th>\n",
       "      <td>523.0</td>\n",
       "      <td>5.808869</td>\n",
       "    </tr>\n",
       "    <tr>\n",
       "      <th>67C</th>\n",
       "      <td>742.0</td>\n",
       "      <td>7.719165</td>\n",
       "    </tr>\n",
       "    <tr>\n",
       "      <th>68</th>\n",
       "      <td>355.0</td>\n",
       "      <td>6.388085</td>\n",
       "    </tr>\n",
       "    <tr>\n",
       "      <th>68C</th>\n",
       "      <td>994.0</td>\n",
       "      <td>8.275257</td>\n",
       "    </tr>\n",
       "    <tr>\n",
       "      <th>68F</th>\n",
       "      <td>693.0</td>\n",
       "      <td>7.959856</td>\n",
       "    </tr>\n",
       "    <tr>\n",
       "      <th>69</th>\n",
       "      <td>364.0</td>\n",
       "      <td>6.012064</td>\n",
       "    </tr>\n",
       "    <tr>\n",
       "      <th>70</th>\n",
       "      <td>721.0</td>\n",
       "      <td>7.983420</td>\n",
       "    </tr>\n",
       "    <tr>\n",
       "      <th>70C</th>\n",
       "      <td>426.0</td>\n",
       "      <td>7.617373</td>\n",
       "    </tr>\n",
       "    <tr>\n",
       "      <th>70F</th>\n",
       "      <td>826.0</td>\n",
       "      <td>7.732552</td>\n",
       "    </tr>\n",
       "    <tr>\n",
       "      <th>71</th>\n",
       "      <td>334.0</td>\n",
       "      <td>6.828541</td>\n",
       "    </tr>\n",
       "    <tr>\n",
       "      <th>71C</th>\n",
       "      <td>866.0</td>\n",
       "      <td>7.873540</td>\n",
       "    </tr>\n",
       "    <tr>\n",
       "      <th>73B</th>\n",
       "      <td>320.0</td>\n",
       "      <td>6.181681</td>\n",
       "    </tr>\n",
       "    <tr>\n",
       "      <th>74C</th>\n",
       "      <td>928.0</td>\n",
       "      <td>7.429261</td>\n",
       "    </tr>\n",
       "    <tr>\n",
       "      <th>76</th>\n",
       "      <td>794.0</td>\n",
       "      <td>7.921173</td>\n",
       "    </tr>\n",
       "    <tr>\n",
       "      <th>76C</th>\n",
       "      <td>702.0</td>\n",
       "      <td>8.135755</td>\n",
       "    </tr>\n",
       "    <tr>\n",
       "      <th>76F</th>\n",
       "      <td>861.0</td>\n",
       "      <td>8.252502</td>\n",
       "    </tr>\n",
       "    <tr>\n",
       "      <th>77</th>\n",
       "      <td>385.0</td>\n",
       "      <td>5.793171</td>\n",
       "    </tr>\n",
       "  </tbody>\n",
       "</table>\n",
       "</div>"
      ],
      "text/plain": [
       "     chao1   shannon\n",
       "49   289.0  5.212772\n",
       "56B  412.0  6.430819\n",
       "60   252.0  4.699384\n",
       "62B  462.0  5.749731\n",
       "65B  523.0  5.808869\n",
       "67C  742.0  7.719165\n",
       "68   355.0  6.388085\n",
       "68C  994.0  8.275257\n",
       "68F  693.0  7.959856\n",
       "69   364.0  6.012064\n",
       "70   721.0  7.983420\n",
       "70C  426.0  7.617373\n",
       "70F  826.0  7.732552\n",
       "71   334.0  6.828541\n",
       "71C  866.0  7.873540\n",
       "73B  320.0  6.181681\n",
       "74C  928.0  7.429261\n",
       "76   794.0  7.921173\n",
       "76C  702.0  8.135755\n",
       "76F  861.0  8.252502\n",
       "77   385.0  5.793171"
      ]
     },
     "execution_count": 156,
     "metadata": {},
     "output_type": "execute_result"
    }
   ],
   "source": [
    "pacbio_div_metr"
   ]
  },
  {
   "cell_type": "code",
   "execution_count": 157,
   "id": "caf3e2cd",
   "metadata": {},
   "outputs": [
    {
     "data": {
      "image/png": "[encoded data removed]",
      "text/plain": [
       "<Figure size 432x288 with 2 Axes>"
      ]
     },
     "metadata": {
      "needs_background": "light"
     },
     "output_type": "display_data"
    }
   ],
   "source": [
    "fig,ax = plt.subplots()\n",
    "\n",
    "\n",
    "ax1 = ax.twinx()\n",
    "\n",
    "sns.lineplot(data = pacbio_div_metr, x = pacbio_div_metr.index, y = 'chao1', \n",
    "             marker = 'o', linewidth = 2, ax = ax, color = 'red', alpha = 0.5)\n",
    "sns.lineplot(data = pacbio_div_metr, x = pacbio_div_metr.index, y = 'shannon',\n",
    "             marker = 'o', linewidth = 2, ax = ax1, color = 'blue', alpha = 0.5)\n",
    "\n",
    "ax1.set_ylabel('shannon', color = 'blue')\n",
    "\n",
    "ax.set_ylabel('chao1', color = 'red')\n",
    "\n",
    "ax.set_xlabel('samples')\n",
    "ax.set_xticks(range(len(pacbio_div_metr.index)),pacbio_div_metr.index.tolist(),rotation=60)\n",
    "\n",
    "plt.title('alpha diversity')\n",
    "\n",
    "plt.show()\n"
   ]
  },
  {
   "cell_type": "code",
   "execution_count": 158,
   "id": "e5dbe838",
   "metadata": {},
   "outputs": [],
   "source": [
    "#add metadata informations"
   ]
  },
  {
   "cell_type": "code",
   "execution_count": 159,
   "id": "a2895556",
   "metadata": {},
   "outputs": [],
   "source": [
    "metadata = pd.read_csv('16s_metadata.csv')"
   ]
  },
  {
   "cell_type": "code",
   "execution_count": 160,
   "id": "881921cb",
   "metadata": {},
   "outputs": [
    {
     "data": {
      "text/html": [
       "<div>\n",
       "<style scoped>\n",
       "    .dataframe tbody tr th:only-of-type {\n",
       "        vertical-align: middle;\n",
       "    }\n",
       "\n",
       "    .dataframe tbody tr th {\n",
       "        vertical-align: top;\n",
       "    }\n",
       "\n",
       "    .dataframe thead th {\n",
       "        text-align: right;\n",
       "    }\n",
       "</style>\n",
       "<table border=\"1\" class=\"dataframe\">\n",
       "  <thead>\n",
       "    <tr style=\"text-align: right;\">\n",
       "      <th></th>\n",
       "      <th>sample</th>\n",
       "      <th>group</th>\n",
       "    </tr>\n",
       "  </thead>\n",
       "  <tbody>\n",
       "    <tr>\n",
       "      <th>0</th>\n",
       "      <td>49</td>\n",
       "      <td>A</td>\n",
       "    </tr>\n",
       "    <tr>\n",
       "      <th>1</th>\n",
       "      <td>56B</td>\n",
       "      <td>A</td>\n",
       "    </tr>\n",
       "    <tr>\n",
       "      <th>2</th>\n",
       "      <td>60</td>\n",
       "      <td>A</td>\n",
       "    </tr>\n",
       "    <tr>\n",
       "      <th>3</th>\n",
       "      <td>62B</td>\n",
       "      <td>A</td>\n",
       "    </tr>\n",
       "    <tr>\n",
       "      <th>4</th>\n",
       "      <td>65B</td>\n",
       "      <td>A</td>\n",
       "    </tr>\n",
       "    <tr>\n",
       "      <th>5</th>\n",
       "      <td>67C</td>\n",
       "      <td>A</td>\n",
       "    </tr>\n",
       "    <tr>\n",
       "      <th>6</th>\n",
       "      <td>68</td>\n",
       "      <td>A</td>\n",
       "    </tr>\n",
       "    <tr>\n",
       "      <th>7</th>\n",
       "      <td>68C</td>\n",
       "      <td>B</td>\n",
       "    </tr>\n",
       "    <tr>\n",
       "      <th>8</th>\n",
       "      <td>68F</td>\n",
       "      <td>B</td>\n",
       "    </tr>\n",
       "    <tr>\n",
       "      <th>9</th>\n",
       "      <td>69</td>\n",
       "      <td>B</td>\n",
       "    </tr>\n",
       "    <tr>\n",
       "      <th>10</th>\n",
       "      <td>70</td>\n",
       "      <td>B</td>\n",
       "    </tr>\n",
       "    <tr>\n",
       "      <th>11</th>\n",
       "      <td>70C</td>\n",
       "      <td>B</td>\n",
       "    </tr>\n",
       "    <tr>\n",
       "      <th>12</th>\n",
       "      <td>70F</td>\n",
       "      <td>B</td>\n",
       "    </tr>\n",
       "    <tr>\n",
       "      <th>13</th>\n",
       "      <td>71</td>\n",
       "      <td>B</td>\n",
       "    </tr>\n",
       "    <tr>\n",
       "      <th>14</th>\n",
       "      <td>71C</td>\n",
       "      <td>C</td>\n",
       "    </tr>\n",
       "    <tr>\n",
       "      <th>15</th>\n",
       "      <td>73B</td>\n",
       "      <td>C</td>\n",
       "    </tr>\n",
       "    <tr>\n",
       "      <th>16</th>\n",
       "      <td>74C</td>\n",
       "      <td>C</td>\n",
       "    </tr>\n",
       "    <tr>\n",
       "      <th>17</th>\n",
       "      <td>76</td>\n",
       "      <td>C</td>\n",
       "    </tr>\n",
       "    <tr>\n",
       "      <th>18</th>\n",
       "      <td>76C</td>\n",
       "      <td>C</td>\n",
       "    </tr>\n",
       "    <tr>\n",
       "      <th>19</th>\n",
       "      <td>76F</td>\n",
       "      <td>C</td>\n",
       "    </tr>\n",
       "    <tr>\n",
       "      <th>20</th>\n",
       "      <td>77</td>\n",
       "      <td>C</td>\n",
       "    </tr>\n",
       "  </tbody>\n",
       "</table>\n",
       "</div>"
      ],
      "text/plain": [
       "   sample group\n",
       "0      49     A\n",
       "1     56B     A\n",
       "2      60     A\n",
       "3     62B     A\n",
       "4     65B     A\n",
       "5     67C     A\n",
       "6      68     A\n",
       "7     68C     B\n",
       "8     68F     B\n",
       "9      69     B\n",
       "10     70     B\n",
       "11    70C     B\n",
       "12    70F     B\n",
       "13     71     B\n",
       "14    71C     C\n",
       "15    73B     C\n",
       "16    74C     C\n",
       "17     76     C\n",
       "18    76C     C\n",
       "19    76F     C\n",
       "20     77     C"
      ]
     },
     "execution_count": 160,
     "metadata": {},
     "output_type": "execute_result"
    }
   ],
   "source": [
    "metadata"
   ]
  },
  {
   "cell_type": "code",
   "execution_count": 161,
   "id": "198a38e4",
   "metadata": {},
   "outputs": [],
   "source": [
    "new_d = pacbio_div_metr.reset_index(names='sample').merge(metadata)"
   ]
  },
  {
   "cell_type": "code",
   "execution_count": 162,
   "id": "912f4f8c",
   "metadata": {},
   "outputs": [
    {
     "data": {
      "image/png": "[encoded data removed]",
      "text/plain": [
       "<Figure size 432x288 with 2 Axes>"
      ]
     },
     "metadata": {
      "needs_background": "light"
     },
     "output_type": "display_data"
    }
   ],
   "source": [
    "fig,ax = plt.subplots(1,2)\n",
    "sns.boxplot(data = new_d, x = 'group', y = 'chao1', ax = ax[0], color = 'tab:orange')\n",
    "sns.boxplot(data = new_d, x = 'group', y = 'shannon', ax = ax[1], color = 'tab:blue')\n",
    "\n",
    "fig.suptitle('alpha diversity')\n",
    "\n",
    "plt.tight_layout()\n",
    "\n",
    "plt.show()"
   ]
  },
  {
   "cell_type": "markdown",
   "id": "5557aff1",
   "metadata": {},
   "source": [
    "# Beta Diversity"
   ]
  },
  {
   "cell_type": "code",
   "execution_count": 163,
   "id": "88be957e",
   "metadata": {},
   "outputs": [],
   "source": [
    "from scipy.cluster.hierarchy import linkage, dendrogram\n",
    "from scipy.spatial.distance import pdist"
   ]
  },
  {
   "cell_type": "code",
   "execution_count": 164,
   "id": "a0c5b8b0",
   "metadata": {},
   "outputs": [],
   "source": [
    "pacbio_dist_matr = pdist(pacbio_feat_tab.transpose(), metric = 'braycurtis')"
   ]
  },
  {
   "cell_type": "code",
   "execution_count": 165,
   "id": "18ce5cef",
   "metadata": {},
   "outputs": [],
   "source": [
    "pacbio_link = linkage(pacbio_dist_matr, method = 'single', metric = 'braycurtis')"
   ]
  },
  {
   "cell_type": "code",
   "execution_count": 166,
   "id": "53b96f1d",
   "metadata": {},
   "outputs": [
    {
     "data": {
      "image/png": "[encoded data removed]",
      "text/plain": [
       "<Figure size 432x288 with 1 Axes>"
      ]
     },
     "metadata": {
      "needs_background": "light"
     },
     "output_type": "display_data"
    }
   ],
   "source": [
    "dendrogram(pacbio_link, orientation = 'top', \n",
    "           labels = pacbio_feat_tab.transpose().index.tolist(),\n",
    "          leaf_font_size=10)\n",
    "\n",
    "plt.title('beta diversity')\n",
    "plt.ylabel('bray-curtis')\n",
    "plt.xlabel('samples')\n",
    "\n",
    "plt.show()"
   ]
  },
  {
   "cell_type": "code",
   "execution_count": 167,
   "id": "d4dc4cec",
   "metadata": {},
   "outputs": [],
   "source": [
    "conv_g = dict(zip(metadata['sample'],metadata['group']))"
   ]
  },
  {
   "cell_type": "code",
   "execution_count": 168,
   "id": "bebf0710",
   "metadata": {},
   "outputs": [
    {
     "data": {
      "image/png": "[encoded data removed]",
      "text/plain": [
       "<Figure size 432x288 with 1 Axes>"
      ]
     },
     "metadata": {
      "needs_background": "light"
     },
     "output_type": "display_data"
    }
   ],
   "source": [
    "dendrogram(pacbio_link, orientation = 'top', \n",
    "           labels = [conv_g[e] for e in pacbio_feat_tab.transpose().index.tolist()],\n",
    "          leaf_font_size=10)\n",
    "\n",
    "plt.title('beta diversity')\n",
    "plt.ylabel('bray-curtis')\n",
    "plt.xlabel('samples')\n",
    "\n",
    "plt.show()"
   ]
  },
  {
   "cell_type": "markdown",
   "id": "32fb3e54",
   "metadata": {},
   "source": [
    "### Finding Motif in a sequence"
   ]
  },
  {
   "cell_type": "markdown",
   "id": "41c21021",
   "metadata": {},
   "source": [
    "## Importing FASTA"
   ]
  },
  {
   "cell_type": "markdown",
   "id": "04ada4e3",
   "metadata": {},
   "source": [
    "### Basic Statistic"
   ]
  },
  {
   "cell_type": "code",
   "execution_count": 169,
   "id": "8e25e7cc",
   "metadata": {},
   "outputs": [],
   "source": [
    "from Bio import SeqIO"
   ]
  },
  {
   "cell_type": "code",
   "execution_count": 170,
   "id": "91de01a8",
   "metadata": {},
   "outputs": [],
   "source": [
    "file = pd.DataFrame({'sequence':{rec.id:str(rec.seq) for rec in SeqIO.parse('dna-sequences.fasta','fasta')}})"
   ]
  },
  {
   "cell_type": "code",
   "execution_count": 171,
   "id": "c160aec6",
   "metadata": {},
   "outputs": [
    {
     "data": {
      "text/plain": [
       "count    4545.000000\n",
       "mean     1436.403520\n",
       "std        31.887304\n",
       "min      1040.000000\n",
       "25%      1407.000000\n",
       "50%      1444.000000\n",
       "75%      1458.000000\n",
       "max      1588.000000\n",
       "Name: sequence, dtype: float64"
      ]
     },
     "execution_count": 171,
     "metadata": {},
     "output_type": "execute_result"
    }
   ],
   "source": [
    "file['sequence'].apply(len).describe()"
   ]
  },
  {
   "cell_type": "code",
   "execution_count": 172,
   "id": "f52b1610",
   "metadata": {},
   "outputs": [
    {
     "data": {
      "text/html": [
       "<div>\n",
       "<style scoped>\n",
       "    .dataframe tbody tr th:only-of-type {\n",
       "        vertical-align: middle;\n",
       "    }\n",
       "\n",
       "    .dataframe tbody tr th {\n",
       "        vertical-align: top;\n",
       "    }\n",
       "\n",
       "    .dataframe thead th {\n",
       "        text-align: right;\n",
       "    }\n",
       "</style>\n",
       "<table border=\"1\" class=\"dataframe\">\n",
       "  <thead>\n",
       "    <tr style=\"text-align: right;\">\n",
       "      <th></th>\n",
       "      <th>sequence</th>\n",
       "    </tr>\n",
       "  </thead>\n",
       "  <tbody>\n",
       "    <tr>\n",
       "      <th>000e74b14c8f0c22656b347e146b0936</th>\n",
       "      <td>GATGAACGCTGGCGGCGTGCTTAACACATGCAAGTCGAACGGGAAT...</td>\n",
       "    </tr>\n",
       "    <tr>\n",
       "      <th>0017fe9d68d9cc01e25ba7bcfd6012a0</th>\n",
       "      <td>AATGAACGTTGGCGGCGTGGATTAGGCATGCAAGTCGAGCGAGAAG...</td>\n",
       "    </tr>\n",
       "    <tr>\n",
       "      <th>0031d1b9ef6e023e9f4b3ff30345f581</th>\n",
       "      <td>AACGTACGCTGGCGGCACGCCTAACACATGCAAGTCGAACGGAGTA...</td>\n",
       "    </tr>\n",
       "    <tr>\n",
       "      <th>0034ee2d7d3cc684d77937de0fce926d</th>\n",
       "      <td>AATGAACGTTAGCGGCGTGGATTAGGCATGCAAGTCGAGCGAGAAG...</td>\n",
       "    </tr>\n",
       "    <tr>\n",
       "      <th>00472373791cfe3f6444b405264fb560</th>\n",
       "      <td>AATGAACGCTGGCGGCGTGGATAAGACATGCAAGTCGAACGAGGAA...</td>\n",
       "    </tr>\n",
       "    <tr>\n",
       "      <th>...</th>\n",
       "      <td>...</td>\n",
       "    </tr>\n",
       "    <tr>\n",
       "      <th>ff8fefa5b3b8a76363210909884c05fd</th>\n",
       "      <td>AACGAACGCTGGCGGCAGGCCTAACACATGCAAGTCGAGCGAGACC...</td>\n",
       "    </tr>\n",
       "    <tr>\n",
       "      <th>ff9b9d9ca8cb02ff816778003d017d49</th>\n",
       "      <td>ATTGAACGCTGGCGGCATGCTTAACACATGCAAGTCGAACGGCAGC...</td>\n",
       "    </tr>\n",
       "    <tr>\n",
       "      <th>ffb25f3933ef1348e0dcf82e979883a7</th>\n",
       "      <td>AACGAACGCTGGCGGCACGCCTAACACATGCAAGTCGAGCGCTCAC...</td>\n",
       "    </tr>\n",
       "    <tr>\n",
       "      <th>ffcfce4f0477e690b5f33866db20e1e7</th>\n",
       "      <td>GATGAACGCTGGCGGCGTGCTTAACACATGCAAGTCGAACGAAGTC...</td>\n",
       "    </tr>\n",
       "    <tr>\n",
       "      <th>ffd25318bec5daecbff8312f29531b8b</th>\n",
       "      <td>AATGAACGTTGGCGGCGTGGATTAGGCATGCAAGTCGAGCGAGAAT...</td>\n",
       "    </tr>\n",
       "  </tbody>\n",
       "</table>\n",
       "<p>4545 rows × 1 columns</p>\n",
       "</div>"
      ],
      "text/plain": [
       "                                                                           sequence\n",
       "000e74b14c8f0c22656b347e146b0936  GATGAACGCTGGCGGCGTGCTTAACACATGCAAGTCGAACGGGAAT...\n",
       "0017fe9d68d9cc01e25ba7bcfd6012a0  AATGAACGTTGGCGGCGTGGATTAGGCATGCAAGTCGAGCGAGAAG...\n",
       "0031d1b9ef6e023e9f4b3ff30345f581  AACGTACGCTGGCGGCACGCCTAACACATGCAAGTCGAACGGAGTA...\n",
       "0034ee2d7d3cc684d77937de0fce926d  AATGAACGTTAGCGGCGTGGATTAGGCATGCAAGTCGAGCGAGAAG...\n",
       "00472373791cfe3f6444b405264fb560  AATGAACGCTGGCGGCGTGGATAAGACATGCAAGTCGAACGAGGAA...\n",
       "...                                                                             ...\n",
       "ff8fefa5b3b8a76363210909884c05fd  AACGAACGCTGGCGGCAGGCCTAACACATGCAAGTCGAGCGAGACC...\n",
       "ff9b9d9ca8cb02ff816778003d017d49  ATTGAACGCTGGCGGCATGCTTAACACATGCAAGTCGAACGGCAGC...\n",
       "ffb25f3933ef1348e0dcf82e979883a7  AACGAACGCTGGCGGCACGCCTAACACATGCAAGTCGAGCGCTCAC...\n",
       "ffcfce4f0477e690b5f33866db20e1e7  GATGAACGCTGGCGGCGTGCTTAACACATGCAAGTCGAACGAAGTC...\n",
       "ffd25318bec5daecbff8312f29531b8b  AATGAACGTTGGCGGCGTGGATTAGGCATGCAAGTCGAGCGAGAAT...\n",
       "\n",
       "[4545 rows x 1 columns]"
      ]
     },
     "execution_count": 172,
     "metadata": {},
     "output_type": "execute_result"
    }
   ],
   "source": [
    "file"
   ]
  },
  {
   "cell_type": "code",
   "execution_count": 173,
   "id": "09f06c94",
   "metadata": {},
   "outputs": [],
   "source": [
    "TATATA = file[file['sequence'].str.contains('TGAA')]"
   ]
  },
  {
   "cell_type": "markdown",
   "id": "889cb396",
   "metadata": {},
   "source": [
    "### Writing FASTA"
   ]
  },
  {
   "cell_type": "code",
   "execution_count": 174,
   "id": "2fca4d77",
   "metadata": {},
   "outputs": [],
   "source": [
    "with open('TATATA.fasta','w') as file:\n",
    "    for header, seq in TATATA.to_dict()['sequence'].items():\n",
    "        file.writelines('>'+header+'\\n')\n",
    "        file.writelines(seq+'\\n')"
   ]
  },
  {
   "cell_type": "markdown",
   "id": "89101bb9",
   "metadata": {},
   "source": [
    "## Statistics"
   ]
  },
  {
   "cell_type": "code",
   "execution_count": 175,
   "id": "064261e4",
   "metadata": {},
   "outputs": [],
   "source": [
    "metadata = pd.read_csv('16s_metadata.csv')"
   ]
  },
  {
   "cell_type": "code",
   "execution_count": 176,
   "id": "b8f1184d",
   "metadata": {},
   "outputs": [],
   "source": [
    "stat = pacbio_div_metr.reset_index(names='sample').merge(metadata, on='sample')"
   ]
  },
  {
   "cell_type": "code",
   "execution_count": 177,
   "id": "e32c373f",
   "metadata": {},
   "outputs": [
    {
     "data": {
      "image/png": "[encoded data removed]",
      "text/plain": [
       "<Figure size 432x288 with 1 Axes>"
      ]
     },
     "metadata": {
      "needs_background": "light"
     },
     "output_type": "display_data"
    }
   ],
   "source": [
    "sns.boxplot(data = stat, x = 'group', y = 'shannon', hue = 'group')\n",
    "plt.show()"
   ]
  },
  {
   "cell_type": "markdown",
   "id": "342aa615",
   "metadata": {},
   "source": [
    "We want to perform an *ANOVA* test to evaluate if the difference on alpha diversity between groups is significant.\n",
    "In order to do so, we need to respect the assumption of the test:\n",
    "- sample size >5\n",
    "- normality\n",
    "- homoschedasticity"
   ]
  },
  {
   "cell_type": "code",
   "execution_count": 178,
   "id": "315b3da2",
   "metadata": {
    "scrolled": false
   },
   "outputs": [],
   "source": [
    "import pingouin as pg  #statistics"
   ]
  },
  {
   "cell_type": "code",
   "execution_count": 179,
   "id": "35f516ed",
   "metadata": {},
   "outputs": [
    {
     "name": "stderr",
     "output_type": "stream",
     "text": [
      "/home/nicola/anaconda3/lib/python3.9/site-packages/outdated/utils.py:14: OutdatedPackageWarning: The package outdated is out of date. Your version is 0.2.1, the latest is 0.2.2.\n",
      "Set the environment variable OUTDATED_IGNORE=1 to disable these warnings.\n",
      "  return warn(\n",
      "/home/nicola/anaconda3/lib/python3.9/site-packages/outdated/utils.py:14: OutdatedPackageWarning: The package pingouin is out of date. Your version is 0.5.3, the latest is 0.5.4.\n",
      "Set the environment variable OUTDATED_IGNORE=1 to disable these warnings.\n",
      "  return warn(\n"
     ]
    },
    {
     "data": {
      "text/plain": [
       "group\n",
       "A    7\n",
       "B    7\n",
       "C    7\n",
       "Name: sample, dtype: int64"
      ]
     },
     "execution_count": 179,
     "metadata": {},
     "output_type": "execute_result"
    }
   ],
   "source": [
    "stat.groupby('group')['sample'].count()"
   ]
  },
  {
   "cell_type": "code",
   "execution_count": 180,
   "id": "0fcd179b",
   "metadata": {},
   "outputs": [
    {
     "data": {
      "text/html": [
       "<div>\n",
       "<style scoped>\n",
       "    .dataframe tbody tr th:only-of-type {\n",
       "        vertical-align: middle;\n",
       "    }\n",
       "\n",
       "    .dataframe tbody tr th {\n",
       "        vertical-align: top;\n",
       "    }\n",
       "\n",
       "    .dataframe thead th {\n",
       "        text-align: right;\n",
       "    }\n",
       "</style>\n",
       "<table border=\"1\" class=\"dataframe\">\n",
       "  <thead>\n",
       "    <tr style=\"text-align: right;\">\n",
       "      <th></th>\n",
       "      <th>W</th>\n",
       "      <th>pval</th>\n",
       "      <th>normal</th>\n",
       "    </tr>\n",
       "    <tr>\n",
       "      <th>group</th>\n",
       "      <th></th>\n",
       "      <th></th>\n",
       "      <th></th>\n",
       "    </tr>\n",
       "  </thead>\n",
       "  <tbody>\n",
       "    <tr>\n",
       "      <th>A</th>\n",
       "      <td>0.960935</td>\n",
       "      <td>0.826716</td>\n",
       "      <td>True</td>\n",
       "    </tr>\n",
       "    <tr>\n",
       "      <th>B</th>\n",
       "      <td>0.865786</td>\n",
       "      <td>0.170447</td>\n",
       "      <td>True</td>\n",
       "    </tr>\n",
       "    <tr>\n",
       "      <th>C</th>\n",
       "      <td>0.826421</td>\n",
       "      <td>0.073988</td>\n",
       "      <td>True</td>\n",
       "    </tr>\n",
       "  </tbody>\n",
       "</table>\n",
       "</div>"
      ],
      "text/plain": [
       "              W      pval  normal\n",
       "group                            \n",
       "A      0.960935  0.826716    True\n",
       "B      0.865786  0.170447    True\n",
       "C      0.826421  0.073988    True"
      ]
     },
     "execution_count": 180,
     "metadata": {},
     "output_type": "execute_result"
    }
   ],
   "source": [
    "pg.normality(data = stat, dv = 'shannon', group = 'group', method = 'shapiro', alpha= 0.05)"
   ]
  },
  {
   "cell_type": "code",
   "execution_count": 181,
   "id": "3eeaf4f3",
   "metadata": {},
   "outputs": [
    {
     "data": {
      "text/html": [
       "<div>\n",
       "<style scoped>\n",
       "    .dataframe tbody tr th:only-of-type {\n",
       "        vertical-align: middle;\n",
       "    }\n",
       "\n",
       "    .dataframe tbody tr th {\n",
       "        vertical-align: top;\n",
       "    }\n",
       "\n",
       "    .dataframe thead th {\n",
       "        text-align: right;\n",
       "    }\n",
       "</style>\n",
       "<table border=\"1\" class=\"dataframe\">\n",
       "  <thead>\n",
       "    <tr style=\"text-align: right;\">\n",
       "      <th></th>\n",
       "      <th>W</th>\n",
       "      <th>pval</th>\n",
       "      <th>equal_var</th>\n",
       "    </tr>\n",
       "  </thead>\n",
       "  <tbody>\n",
       "    <tr>\n",
       "      <th>levene</th>\n",
       "      <td>0.122956</td>\n",
       "      <td>0.885039</td>\n",
       "      <td>True</td>\n",
       "    </tr>\n",
       "  </tbody>\n",
       "</table>\n",
       "</div>"
      ],
      "text/plain": [
       "               W      pval  equal_var\n",
       "levene  0.122956  0.885039       True"
      ]
     },
     "execution_count": 181,
     "metadata": {},
     "output_type": "execute_result"
    }
   ],
   "source": [
    "pg.homoscedasticity(data = stat, dv = 'shannon', group = 'group', method = 'levene', alpha = 0.05)"
   ]
  },
  {
   "cell_type": "code",
   "execution_count": 182,
   "id": "229970b5",
   "metadata": {},
   "outputs": [
    {
     "data": {
      "text/html": [
       "<div>\n",
       "<style scoped>\n",
       "    .dataframe tbody tr th:only-of-type {\n",
       "        vertical-align: middle;\n",
       "    }\n",
       "\n",
       "    .dataframe tbody tr th {\n",
       "        vertical-align: top;\n",
       "    }\n",
       "\n",
       "    .dataframe thead th {\n",
       "        text-align: right;\n",
       "    }\n",
       "</style>\n",
       "<table border=\"1\" class=\"dataframe\">\n",
       "  <thead>\n",
       "    <tr style=\"text-align: right;\">\n",
       "      <th></th>\n",
       "      <th>Source</th>\n",
       "      <th>ddof1</th>\n",
       "      <th>ddof2</th>\n",
       "      <th>F</th>\n",
       "      <th>p-unc</th>\n",
       "      <th>np2</th>\n",
       "    </tr>\n",
       "  </thead>\n",
       "  <tbody>\n",
       "    <tr>\n",
       "      <th>0</th>\n",
       "      <td>group</td>\n",
       "      <td>2</td>\n",
       "      <td>18</td>\n",
       "      <td>5.61696</td>\n",
       "      <td>0.012719</td>\n",
       "      <td>0.384277</td>\n",
       "    </tr>\n",
       "  </tbody>\n",
       "</table>\n",
       "</div>"
      ],
      "text/plain": [
       "  Source  ddof1  ddof2        F     p-unc       np2\n",
       "0  group      2     18  5.61696  0.012719  0.384277"
      ]
     },
     "execution_count": 182,
     "metadata": {},
     "output_type": "execute_result"
    }
   ],
   "source": [
    "pg.anova(data = stat, dv='shannon',between='group')"
   ]
  },
  {
   "cell_type": "code",
   "execution_count": 183,
   "id": "4b136763",
   "metadata": {},
   "outputs": [
    {
     "data": {
      "text/html": [
       "<div>\n",
       "<style scoped>\n",
       "    .dataframe tbody tr th:only-of-type {\n",
       "        vertical-align: middle;\n",
       "    }\n",
       "\n",
       "    .dataframe tbody tr th {\n",
       "        vertical-align: top;\n",
       "    }\n",
       "\n",
       "    .dataframe thead th {\n",
       "        text-align: right;\n",
       "    }\n",
       "</style>\n",
       "<table border=\"1\" class=\"dataframe\">\n",
       "  <thead>\n",
       "    <tr style=\"text-align: right;\">\n",
       "      <th></th>\n",
       "      <th>A</th>\n",
       "      <th>B</th>\n",
       "      <th>mean(A)</th>\n",
       "      <th>mean(B)</th>\n",
       "      <th>diff</th>\n",
       "      <th>se</th>\n",
       "      <th>T</th>\n",
       "      <th>p-tukey</th>\n",
       "      <th>hedges</th>\n",
       "    </tr>\n",
       "  </thead>\n",
       "  <tbody>\n",
       "    <tr>\n",
       "      <th>0</th>\n",
       "      <td>A</td>\n",
       "      <td>B</td>\n",
       "      <td>6.001261</td>\n",
       "      <td>7.487009</td>\n",
       "      <td>-1.485748</td>\n",
       "      <td>0.492877</td>\n",
       "      <td>-3.014441</td>\n",
       "      <td>0.019401</td>\n",
       "      <td>-1.564908</td>\n",
       "    </tr>\n",
       "    <tr>\n",
       "      <th>1</th>\n",
       "      <td>A</td>\n",
       "      <td>C</td>\n",
       "      <td>6.001261</td>\n",
       "      <td>7.369583</td>\n",
       "      <td>-1.368323</td>\n",
       "      <td>0.492877</td>\n",
       "      <td>-2.776196</td>\n",
       "      <td>0.031820</td>\n",
       "      <td>-1.307014</td>\n",
       "    </tr>\n",
       "    <tr>\n",
       "      <th>2</th>\n",
       "      <td>B</td>\n",
       "      <td>C</td>\n",
       "      <td>7.487009</td>\n",
       "      <td>7.369583</td>\n",
       "      <td>0.117426</td>\n",
       "      <td>0.492877</td>\n",
       "      <td>0.238246</td>\n",
       "      <td>0.969247</td>\n",
       "      <td>0.122892</td>\n",
       "    </tr>\n",
       "  </tbody>\n",
       "</table>\n",
       "</div>"
      ],
      "text/plain": [
       "   A  B   mean(A)   mean(B)      diff        se         T   p-tukey    hedges\n",
       "0  A  B  6.001261  7.487009 -1.485748  0.492877 -3.014441  0.019401 -1.564908\n",
       "1  A  C  6.001261  7.369583 -1.368323  0.492877 -2.776196  0.031820 -1.307014\n",
       "2  B  C  7.487009  7.369583  0.117426  0.492877  0.238246  0.969247  0.122892"
      ]
     },
     "execution_count": 183,
     "metadata": {},
     "output_type": "execute_result"
    }
   ],
   "source": [
    "pg.pairwise_tukey(data=stat, dv = 'shannon', between = 'group')"
   ]
  },
  {
   "cell_type": "code",
   "execution_count": 184,
   "id": "af06da9a",
   "metadata": {},
   "outputs": [
    {
     "data": {
      "image/png": "[encoded data removed]",
      "text/plain": [
       "<Figure size 432x288 with 1 Axes>"
      ]
     },
     "metadata": {
      "needs_background": "light"
     },
     "output_type": "display_data"
    }
   ],
   "source": [
    "sns.boxplot(data = stat, x = 'group', y = 'shannon', hue = 'group')\n",
    "plt.text(x = -0.06, y = 7.9, s = '*', size = 25, color = 'red')\n",
    "plt.show()"
   ]
  },
  {
   "cell_type": "markdown",
   "id": "f18a6a01",
   "metadata": {},
   "source": [
    "# Seaborn vs Matplotlib"
   ]
  },
  {
   "cell_type": "code",
   "execution_count": 185,
   "id": "005b6024",
   "metadata": {},
   "outputs": [],
   "source": [
    "data = sns.load_dataset('penguins')"
   ]
  },
  {
   "cell_type": "code",
   "execution_count": 186,
   "id": "2eb109d3",
   "metadata": {},
   "outputs": [
    {
     "data": {
      "image/png": "[encoded data removed]",
      "text/plain": [
       "<Figure size 432x288 with 1 Axes>"
      ]
     },
     "metadata": {
      "needs_background": "light"
     },
     "output_type": "display_data"
    }
   ],
   "source": [
    "sns.violinplot(data = data, x = 'species', \n",
    "               y='body_mass_g', hue='sex',\n",
    "              split=True, fill = False,\n",
    "              inner='quart')\n",
    "plt.show()"
   ]
  },
  {
   "cell_type": "code",
   "execution_count": 187,
   "id": "ec061f58",
   "metadata": {},
   "outputs": [
    {
     "data": {
      "image/png": "[encoded data removed]",
      "text/plain": [
       "<Figure size 432x288 with 1 Axes>"
      ]
     },
     "metadata": {
      "needs_background": "light"
     },
     "output_type": "display_data"
    }
   ],
   "source": [
    "c={'Male':'royalblue','Female':'tab:orange'}\n",
    "sd={'Male':'low','Female':'high'}\n",
    "\n",
    "i = 0\n",
    "for s in ['Adelie','Chinstrap','Gentoo']:\n",
    "    for x in ['Male','Female']:\n",
    "        \n",
    "        part33 = plt.violinplot(dataset=data.query('species==@s&sex==@x')['body_mass_g'].dropna(), \n",
    "                                quantiles=[0.25,0.5,0.75],\n",
    "                                positions=[i],side=sd[x],points=10000)\n",
    "        for pc in part33['bodies']:\n",
    "            pc.set_color('white')\n",
    "            pc.set_edgecolor(c[x])\n",
    "            pc.set_alpha(1)\n",
    "        \n",
    "        part33['cmins'].set_linewidth(0)\n",
    "        part33['cmaxes'].set_linewidth(0)\n",
    "        part33['cbars'].set_color(c[x])\n",
    "        \n",
    "        part33['cquantiles'].set_color(c[x])\n",
    "        part33['cquantiles'].set_linestyle(['dotted','dashed','dotted'])\n",
    "            \n",
    "        \n",
    "        i+=0\n",
    "    i+=1\n",
    "\n",
    "# for partname in ('cbars','cmins','cmaxes','cmeans','cmedians'):\n",
    "\n",
    "plt.ylabel('body_mass_g')\n",
    "plt.xlabel('species')\n",
    "plt.xticks([0,1,2],['Adelie','Chinstrap','Gentoo'])\n",
    "\n",
    "plt.legend(['Male','Female'],loc='upper left', title ='sex')\n",
    "\n",
    "plt.show()"
   ]
  },
  {
   "cell_type": "code",
   "execution_count": null,
   "id": "bc70c930",
   "metadata": {},
   "outputs": [],
   "source": []
  },
  {
   "cell_type": "code",
   "execution_count": null,
   "id": "71bf6755",
   "metadata": {},
   "outputs": [],
   "source": []
  }
 ],
 "metadata": {
  "celltoolbar": "Raw Cell Format",
  "kernelspec": {
   "display_name": "Python 3 (ipykernel)",
   "language": "python",
   "name": "python3"
  },
  "language_info": {
   "codemirror_mode": {
    "name": "ipython",
    "version": 3
   },
   "file_extension": ".py",
   "mimetype": "text/x-python",
   "name": "python",
   "nbconvert_exporter": "python",
   "pygments_lexer": "ipython3",
   "version": "3.9.7"
  }
 },
 "nbformat": 4,
 "nbformat_minor": 5
}
